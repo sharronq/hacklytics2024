{
 "cells": [
  {
   "cell_type": "code",
   "execution_count": 205,
   "metadata": {
    "_cell_guid": "29d803ef-727b-40de-97bb-09c762a94335",
    "_uuid": "7e8f0ab3-c665-47d0-aa74-4d63d9b4d40a",
    "collapsed": false,
    "jupyter": {
     "outputs_hidden": false
    }
   },
   "outputs": [
    {
     "name": "stdout",
     "output_type": "stream",
     "text": [
      "Defaulting to user installation because normal site-packages is not writeable\n",
      "Requirement already satisfied: joblib in /opt/intel/oneapi/intelpython/python3.9/lib/python3.9/site-packages (1.2.0)\n",
      "Collecting package metadata (current_repodata.json): done\n",
      "Solving environment: done\n",
      "\n",
      "## Package Plan ##\n",
      "\n",
      "  environment location: /opt/intel/oneapi/intelpython/latest\n",
      "\n",
      "  added / updated specs:\n",
      "    - joblib\n",
      "\n",
      "\n",
      "The following packages will be SUPERSEDED by a higher-priority channel:\n",
      "\n",
      "  ca-certificates    anaconda::ca-certificates-2023.08.22-~ --> conda_channel::ca-certificates-2023.5.7-hbcca054_0 \n",
      "  certifi            anaconda/linux-64::certifi-2023.7.22-~ --> conda_channel/noarch::certifi-2023.5.7-pyhd8ed1ab_0 \n",
      "\n",
      "\n",
      "\n",
      "Downloading and Extracting Packages\n",
      "\n",
      "Preparing transaction: done\n",
      "Verifying transaction: failed\n",
      "\n",
      "EnvironmentNotWritableError: The current user does not have write permissions to the target environment.\n",
      "  environment location: /opt/intel/oneapi/intelpython/latest\n",
      "  uid: 17789\n",
      "  gid: 100\n",
      "\n",
      "\n"
     ]
    }
   ],
   "source": [
    "!pip install joblib\n",
    "!conda install --yes joblib\n"
   ]
  },
  {
   "cell_type": "code",
   "execution_count": 206,
   "metadata": {
    "_cell_guid": "29d803ef-727b-40de-97bb-09c762a94335",
    "_uuid": "7e8f0ab3-c665-47d0-aa74-4d63d9b4d40a",
    "collapsed": false,
    "jupyter": {
     "outputs_hidden": false
    }
   },
   "outputs": [],
   "source": [
    "import joblib"
   ]
  },
  {
   "cell_type": "code",
   "execution_count": 207,
   "metadata": {
    "_cell_guid": "29d803ef-727b-40de-97bb-09c762a94335",
    "_uuid": "7e8f0ab3-c665-47d0-aa74-4d63d9b4d40a",
    "collapsed": false,
    "jupyter": {
     "outputs_hidden": false
    }
   },
   "outputs": [
    {
     "name": "stdout",
     "output_type": "stream",
     "text": [
      "Defaulting to user installation because normal site-packages is not writeable\n",
      "Requirement already satisfied: scikit-learn in /home/u29c32ef6543862cef7ca70b338029c5/.local/lib/python3.9/site-packages (1.4.0)\n",
      "Requirement already satisfied: numpy<2.0,>=1.19.5 in /opt/intel/oneapi/intelpython/python3.9/lib/python3.9/site-packages (from scikit-learn) (1.24.3)\n",
      "Requirement already satisfied: scipy>=1.6.0 in /opt/intel/oneapi/intelpython/python3.9/lib/python3.9/site-packages (from scikit-learn) (1.10.1)\n",
      "Requirement already satisfied: joblib>=1.2.0 in /opt/intel/oneapi/intelpython/python3.9/lib/python3.9/site-packages (from scikit-learn) (1.2.0)\n",
      "Requirement already satisfied: threadpoolctl>=2.0.0 in /opt/intel/oneapi/intelpython/python3.9/lib/python3.9/site-packages (from scikit-learn) (3.1.0)\n"
     ]
    }
   ],
   "source": [
    "!pip install --upgrade scikit-learn"
   ]
  },
  {
   "cell_type": "code",
   "execution_count": 208,
   "metadata": {},
   "outputs": [
    {
     "name": "stdout",
     "output_type": "stream",
     "text": [
      "Requirement already satisfied: scikit-learn in /home/u29c32ef6543862cef7ca70b338029c5/.local/lib/python3.9/site-packages (1.4.0)\n",
      "Requirement already satisfied: numpy<2.0,>=1.19.5 in /opt/intel/oneapi/intelpython/python3.9/lib/python3.9/site-packages (from scikit-learn) (1.24.3)\n",
      "Requirement already satisfied: scipy>=1.6.0 in /opt/intel/oneapi/intelpython/python3.9/lib/python3.9/site-packages (from scikit-learn) (1.10.1)\n",
      "Requirement already satisfied: joblib>=1.2.0 in /opt/intel/oneapi/intelpython/python3.9/lib/python3.9/site-packages (from scikit-learn) (1.2.0)\n",
      "Requirement already satisfied: threadpoolctl>=2.0.0 in /opt/intel/oneapi/intelpython/python3.9/lib/python3.9/site-packages (from scikit-learn) (3.1.0)\n"
     ]
    }
   ],
   "source": [
    "!pip install --upgrade --user scikit-learn"
   ]
  },
  {
   "cell_type": "code",
   "execution_count": 209,
   "metadata": {
    "_cell_guid": "769d7dfe-4275-42c0-b13a-b2e1a51323d3",
    "_uuid": "04ba2606-383c-47c1-8b3a-c2fec9ab7f90",
    "collapsed": false,
    "jupyter": {
     "outputs_hidden": false
    },
    "papermill": {
     "duration": 1.394335,
     "end_time": "2021-08-30T15:05:17.551091",
     "exception": false,
     "start_time": "2021-08-30T15:05:16.156756",
     "status": "completed"
    },
    "tags": []
   },
   "outputs": [],
   "source": [
    "import pandas as pd\n",
    "import numpy as np\n",
    "import matplotlib.pyplot as plt\n",
    "from sklearn.model_selection import train_test_split,KFold,cross_val_score,GridSearchCV\n",
    "from sklearn.svm import SVC\n",
    "from sklearn.metrics import f1_score, accuracy_score, confusion_matrix, classification_report, precision_score, roc_curve\n",
    "#from sklearn.metrics import plot_confusion_matrix, plot_roc_curve\n",
    "\n",
    "import seaborn as sns\n",
    "from sklearn.utils import shuffle\n",
    "\n",
    "#from pandas_profiling import ProfileReport\n",
    "from sklearn.linear_model import LogisticRegression, Perceptron, RidgeClassifier, SGDClassifier\n",
    "from sklearn.ensemble import RandomForestClassifier, GradientBoostingClassifier, ExtraTreesClassifier \n",
    "from sklearn.ensemble import BaggingClassifier, AdaBoostClassifier, VotingClassifier \n",
    "from sklearn.neighbors import KNeighborsClassifier\n",
    "from sklearn.naive_bayes import GaussianNB\n",
    "from sklearn.tree import DecisionTreeClassifier\n",
    "from sklearn import metrics"
   ]
  },
  {
   "cell_type": "markdown",
   "metadata": {
    "_cell_guid": "e1480d23-615f-449d-899c-980c4745d98a",
    "_uuid": "e4080fe0-1a9b-474a-a75c-7edf10baded4",
    "papermill": {
     "duration": 0.024723,
     "end_time": "2021-08-30T15:05:17.748249",
     "exception": false,
     "start_time": "2021-08-30T15:05:17.723526",
     "status": "completed"
    },
    "tags": []
   },
   "source": [
    "**Read and shuffle the dataset**"
   ]
  },
  {
   "cell_type": "code",
   "execution_count": 210,
   "metadata": {
    "_cell_guid": "004332d9-692e-421f-91cc-5d0335a40ac9",
    "_uuid": "0b07b2a3-a895-48e5-9bc2-05c749e1a761",
    "collapsed": false,
    "jupyter": {
     "outputs_hidden": false
    },
    "papermill": {
     "duration": 0.098404,
     "end_time": "2021-08-30T15:05:17.923833",
     "exception": false,
     "start_time": "2021-08-30T15:05:17.825429",
     "status": "completed"
    },
    "tags": []
   },
   "outputs": [
    {
     "data": {
      "text/html": [
       "<div>\n",
       "<style scoped>\n",
       "    .dataframe tbody tr th:only-of-type {\n",
       "        vertical-align: middle;\n",
       "    }\n",
       "\n",
       "    .dataframe tbody tr th {\n",
       "        vertical-align: top;\n",
       "    }\n",
       "\n",
       "    .dataframe thead th {\n",
       "        text-align: right;\n",
       "    }\n",
       "</style>\n",
       "<table border=\"1\" class=\"dataframe\">\n",
       "  <thead>\n",
       "    <tr style=\"text-align: right;\">\n",
       "      <th></th>\n",
       "      <th>Disease</th>\n",
       "      <th>Symptom_1</th>\n",
       "      <th>Symptom_2</th>\n",
       "      <th>Symptom_3</th>\n",
       "      <th>Symptom_4</th>\n",
       "      <th>Symptom_5</th>\n",
       "      <th>Symptom_6</th>\n",
       "      <th>Symptom_7</th>\n",
       "      <th>Symptom_8</th>\n",
       "      <th>Symptom_9</th>\n",
       "      <th>Symptom_10</th>\n",
       "      <th>Symptom_11</th>\n",
       "      <th>Symptom_12</th>\n",
       "      <th>Symptom_13</th>\n",
       "      <th>Symptom_14</th>\n",
       "      <th>Symptom_15</th>\n",
       "      <th>Symptom_16</th>\n",
       "      <th>Symptom_17</th>\n",
       "    </tr>\n",
       "  </thead>\n",
       "  <tbody>\n",
       "    <tr>\n",
       "      <th>373</th>\n",
       "      <td>Acne</td>\n",
       "      <td>skin_rash</td>\n",
       "      <td>blackheads</td>\n",
       "      <td>scurring</td>\n",
       "      <td>NaN</td>\n",
       "      <td>NaN</td>\n",
       "      <td>NaN</td>\n",
       "      <td>NaN</td>\n",
       "      <td>NaN</td>\n",
       "      <td>NaN</td>\n",
       "      <td>NaN</td>\n",
       "      <td>NaN</td>\n",
       "      <td>NaN</td>\n",
       "      <td>NaN</td>\n",
       "      <td>NaN</td>\n",
       "      <td>NaN</td>\n",
       "      <td>NaN</td>\n",
       "      <td>NaN</td>\n",
       "    </tr>\n",
       "    <tr>\n",
       "      <th>4916</th>\n",
       "      <td>Acne</td>\n",
       "      <td>skin_rash</td>\n",
       "      <td>pus_filled_pimples</td>\n",
       "      <td>blackheads</td>\n",
       "      <td>scurring</td>\n",
       "      <td>NaN</td>\n",
       "      <td>NaN</td>\n",
       "      <td>NaN</td>\n",
       "      <td>NaN</td>\n",
       "      <td>NaN</td>\n",
       "      <td>NaN</td>\n",
       "      <td>NaN</td>\n",
       "      <td>NaN</td>\n",
       "      <td>NaN</td>\n",
       "      <td>NaN</td>\n",
       "      <td>NaN</td>\n",
       "      <td>NaN</td>\n",
       "      <td>NaN</td>\n",
       "    </tr>\n",
       "    <tr>\n",
       "      <th>1550</th>\n",
       "      <td>Hyperthyroidism</td>\n",
       "      <td>fatigue</td>\n",
       "      <td>mood_swings</td>\n",
       "      <td>weight_loss</td>\n",
       "      <td>restlessness</td>\n",
       "      <td>sweating</td>\n",
       "      <td>diarrhoea</td>\n",
       "      <td>fast_heart_rate</td>\n",
       "      <td>excessive_hunger</td>\n",
       "      <td>muscle_weakness</td>\n",
       "      <td>irritability</td>\n",
       "      <td>abnormal_menstruation</td>\n",
       "      <td>NaN</td>\n",
       "      <td>NaN</td>\n",
       "      <td>NaN</td>\n",
       "      <td>NaN</td>\n",
       "      <td>NaN</td>\n",
       "      <td>NaN</td>\n",
       "    </tr>\n",
       "    <tr>\n",
       "      <th>3081</th>\n",
       "      <td>AIDS</td>\n",
       "      <td>muscle_wasting</td>\n",
       "      <td>patches_in_throat</td>\n",
       "      <td>high_fever</td>\n",
       "      <td>extra_marital_contacts</td>\n",
       "      <td>NaN</td>\n",
       "      <td>NaN</td>\n",
       "      <td>NaN</td>\n",
       "      <td>NaN</td>\n",
       "      <td>NaN</td>\n",
       "      <td>NaN</td>\n",
       "      <td>NaN</td>\n",
       "      <td>NaN</td>\n",
       "      <td>NaN</td>\n",
       "      <td>NaN</td>\n",
       "      <td>NaN</td>\n",
       "      <td>NaN</td>\n",
       "      <td>NaN</td>\n",
       "    </tr>\n",
       "    <tr>\n",
       "      <th>3857</th>\n",
       "      <td>Chronic cholestasis</td>\n",
       "      <td>itching</td>\n",
       "      <td>vomiting</td>\n",
       "      <td>yellowish_skin</td>\n",
       "      <td>nausea</td>\n",
       "      <td>loss_of_appetite</td>\n",
       "      <td>abdominal_pain</td>\n",
       "      <td>yellowing_of_eyes</td>\n",
       "      <td>NaN</td>\n",
       "      <td>NaN</td>\n",
       "      <td>NaN</td>\n",
       "      <td>NaN</td>\n",
       "      <td>NaN</td>\n",
       "      <td>NaN</td>\n",
       "      <td>NaN</td>\n",
       "      <td>NaN</td>\n",
       "      <td>NaN</td>\n",
       "      <td>NaN</td>\n",
       "    </tr>\n",
       "  </tbody>\n",
       "</table>\n",
       "</div>"
      ],
      "text/plain": [
       "                  Disease        Symptom_1            Symptom_2  \\\n",
       "373                  Acne        skin_rash           blackheads   \n",
       "4916                 Acne        skin_rash   pus_filled_pimples   \n",
       "1550      Hyperthyroidism          fatigue          mood_swings   \n",
       "3081                 AIDS   muscle_wasting    patches_in_throat   \n",
       "3857  Chronic cholestasis          itching             vomiting   \n",
       "\n",
       "            Symptom_3                Symptom_4          Symptom_5  \\\n",
       "373          scurring                      NaN                NaN   \n",
       "4916       blackheads                 scurring                NaN   \n",
       "1550      weight_loss             restlessness           sweating   \n",
       "3081       high_fever   extra_marital_contacts                NaN   \n",
       "3857   yellowish_skin                   nausea   loss_of_appetite   \n",
       "\n",
       "            Symptom_6           Symptom_7          Symptom_8  \\\n",
       "373               NaN                 NaN                NaN   \n",
       "4916              NaN                 NaN                NaN   \n",
       "1550        diarrhoea     fast_heart_rate   excessive_hunger   \n",
       "3081              NaN                 NaN                NaN   \n",
       "3857   abdominal_pain   yellowing_of_eyes                NaN   \n",
       "\n",
       "             Symptom_9     Symptom_10              Symptom_11 Symptom_12  \\\n",
       "373                NaN            NaN                     NaN        NaN   \n",
       "4916               NaN            NaN                     NaN        NaN   \n",
       "1550   muscle_weakness   irritability   abnormal_menstruation        NaN   \n",
       "3081               NaN            NaN                     NaN        NaN   \n",
       "3857               NaN            NaN                     NaN        NaN   \n",
       "\n",
       "     Symptom_13 Symptom_14 Symptom_15 Symptom_16 Symptom_17  \n",
       "373         NaN        NaN        NaN        NaN        NaN  \n",
       "4916        NaN        NaN        NaN        NaN        NaN  \n",
       "1550        NaN        NaN        NaN        NaN        NaN  \n",
       "3081        NaN        NaN        NaN        NaN        NaN  \n",
       "3857        NaN        NaN        NaN        NaN        NaN  "
      ]
     },
     "execution_count": 210,
     "metadata": {},
     "output_type": "execute_result"
    }
   ],
   "source": [
    "df = pd.read_csv('dataset.csv')\n",
    "df = shuffle(df,random_state=42)\n",
    "df.head()"
   ]
  },
  {
   "cell_type": "markdown",
   "metadata": {
    "_cell_guid": "47319647-a30b-4685-9ff6-4f55c37e34ea",
    "_uuid": "5af2a859-25dc-44d9-b69c-3641957ace0c"
   },
   "source": [
    "**Removing Hyphen from strings**"
   ]
  },
  {
   "cell_type": "code",
   "execution_count": 211,
   "metadata": {
    "_cell_guid": "9ce44588-29e9-4649-9b29-9f24abbcaad4",
    "_uuid": "119a2f4f-eb9c-4d73-8d45-6d2004a45323",
    "collapsed": false,
    "jupyter": {
     "outputs_hidden": false
    }
   },
   "outputs": [
    {
     "data": {
      "text/html": [
       "<div>\n",
       "<style scoped>\n",
       "    .dataframe tbody tr th:only-of-type {\n",
       "        vertical-align: middle;\n",
       "    }\n",
       "\n",
       "    .dataframe tbody tr th {\n",
       "        vertical-align: top;\n",
       "    }\n",
       "\n",
       "    .dataframe thead th {\n",
       "        text-align: right;\n",
       "    }\n",
       "</style>\n",
       "<table border=\"1\" class=\"dataframe\">\n",
       "  <thead>\n",
       "    <tr style=\"text-align: right;\">\n",
       "      <th></th>\n",
       "      <th>Disease</th>\n",
       "      <th>Symptom_1</th>\n",
       "      <th>Symptom_2</th>\n",
       "      <th>Symptom_3</th>\n",
       "      <th>Symptom_4</th>\n",
       "      <th>Symptom_5</th>\n",
       "      <th>Symptom_6</th>\n",
       "      <th>Symptom_7</th>\n",
       "      <th>Symptom_8</th>\n",
       "      <th>Symptom_9</th>\n",
       "      <th>Symptom_10</th>\n",
       "      <th>Symptom_11</th>\n",
       "      <th>Symptom_12</th>\n",
       "      <th>Symptom_13</th>\n",
       "      <th>Symptom_14</th>\n",
       "      <th>Symptom_15</th>\n",
       "      <th>Symptom_16</th>\n",
       "      <th>Symptom_17</th>\n",
       "    </tr>\n",
       "  </thead>\n",
       "  <tbody>\n",
       "    <tr>\n",
       "      <th>373</th>\n",
       "      <td>Acne</td>\n",
       "      <td>skin rash</td>\n",
       "      <td>blackheads</td>\n",
       "      <td>scurring</td>\n",
       "      <td>NaN</td>\n",
       "      <td>NaN</td>\n",
       "      <td>NaN</td>\n",
       "      <td>NaN</td>\n",
       "      <td>NaN</td>\n",
       "      <td>NaN</td>\n",
       "      <td>NaN</td>\n",
       "      <td>NaN</td>\n",
       "      <td>NaN</td>\n",
       "      <td>NaN</td>\n",
       "      <td>NaN</td>\n",
       "      <td>NaN</td>\n",
       "      <td>NaN</td>\n",
       "      <td>NaN</td>\n",
       "    </tr>\n",
       "    <tr>\n",
       "      <th>4916</th>\n",
       "      <td>Acne</td>\n",
       "      <td>skin rash</td>\n",
       "      <td>pus filled pimples</td>\n",
       "      <td>blackheads</td>\n",
       "      <td>scurring</td>\n",
       "      <td>NaN</td>\n",
       "      <td>NaN</td>\n",
       "      <td>NaN</td>\n",
       "      <td>NaN</td>\n",
       "      <td>NaN</td>\n",
       "      <td>NaN</td>\n",
       "      <td>NaN</td>\n",
       "      <td>NaN</td>\n",
       "      <td>NaN</td>\n",
       "      <td>NaN</td>\n",
       "      <td>NaN</td>\n",
       "      <td>NaN</td>\n",
       "      <td>NaN</td>\n",
       "    </tr>\n",
       "    <tr>\n",
       "      <th>1550</th>\n",
       "      <td>Hyperthyroidism</td>\n",
       "      <td>fatigue</td>\n",
       "      <td>mood swings</td>\n",
       "      <td>weight loss</td>\n",
       "      <td>restlessness</td>\n",
       "      <td>sweating</td>\n",
       "      <td>diarrhoea</td>\n",
       "      <td>fast heart rate</td>\n",
       "      <td>excessive hunger</td>\n",
       "      <td>muscle weakness</td>\n",
       "      <td>irritability</td>\n",
       "      <td>abnormal menstruation</td>\n",
       "      <td>NaN</td>\n",
       "      <td>NaN</td>\n",
       "      <td>NaN</td>\n",
       "      <td>NaN</td>\n",
       "      <td>NaN</td>\n",
       "      <td>NaN</td>\n",
       "    </tr>\n",
       "    <tr>\n",
       "      <th>3081</th>\n",
       "      <td>AIDS</td>\n",
       "      <td>muscle wasting</td>\n",
       "      <td>patches in throat</td>\n",
       "      <td>high fever</td>\n",
       "      <td>extra marital contacts</td>\n",
       "      <td>NaN</td>\n",
       "      <td>NaN</td>\n",
       "      <td>NaN</td>\n",
       "      <td>NaN</td>\n",
       "      <td>NaN</td>\n",
       "      <td>NaN</td>\n",
       "      <td>NaN</td>\n",
       "      <td>NaN</td>\n",
       "      <td>NaN</td>\n",
       "      <td>NaN</td>\n",
       "      <td>NaN</td>\n",
       "      <td>NaN</td>\n",
       "      <td>NaN</td>\n",
       "    </tr>\n",
       "    <tr>\n",
       "      <th>3857</th>\n",
       "      <td>Chronic cholestasis</td>\n",
       "      <td>itching</td>\n",
       "      <td>vomiting</td>\n",
       "      <td>yellowish skin</td>\n",
       "      <td>nausea</td>\n",
       "      <td>loss of appetite</td>\n",
       "      <td>abdominal pain</td>\n",
       "      <td>yellowing of eyes</td>\n",
       "      <td>NaN</td>\n",
       "      <td>NaN</td>\n",
       "      <td>NaN</td>\n",
       "      <td>NaN</td>\n",
       "      <td>NaN</td>\n",
       "      <td>NaN</td>\n",
       "      <td>NaN</td>\n",
       "      <td>NaN</td>\n",
       "      <td>NaN</td>\n",
       "      <td>NaN</td>\n",
       "    </tr>\n",
       "  </tbody>\n",
       "</table>\n",
       "</div>"
      ],
      "text/plain": [
       "                  Disease        Symptom_1            Symptom_2  \\\n",
       "373                  Acne        skin rash           blackheads   \n",
       "4916                 Acne        skin rash   pus filled pimples   \n",
       "1550      Hyperthyroidism          fatigue          mood swings   \n",
       "3081                 AIDS   muscle wasting    patches in throat   \n",
       "3857  Chronic cholestasis          itching             vomiting   \n",
       "\n",
       "            Symptom_3                Symptom_4          Symptom_5  \\\n",
       "373          scurring                      NaN                NaN   \n",
       "4916       blackheads                 scurring                NaN   \n",
       "1550      weight loss             restlessness           sweating   \n",
       "3081       high fever   extra marital contacts                NaN   \n",
       "3857   yellowish skin                   nausea   loss of appetite   \n",
       "\n",
       "            Symptom_6           Symptom_7          Symptom_8  \\\n",
       "373               NaN                 NaN                NaN   \n",
       "4916              NaN                 NaN                NaN   \n",
       "1550        diarrhoea     fast heart rate   excessive hunger   \n",
       "3081              NaN                 NaN                NaN   \n",
       "3857   abdominal pain   yellowing of eyes                NaN   \n",
       "\n",
       "             Symptom_9     Symptom_10              Symptom_11 Symptom_12  \\\n",
       "373                NaN            NaN                     NaN        NaN   \n",
       "4916               NaN            NaN                     NaN        NaN   \n",
       "1550   muscle weakness   irritability   abnormal menstruation        NaN   \n",
       "3081               NaN            NaN                     NaN        NaN   \n",
       "3857               NaN            NaN                     NaN        NaN   \n",
       "\n",
       "     Symptom_13 Symptom_14 Symptom_15 Symptom_16 Symptom_17  \n",
       "373         NaN        NaN        NaN        NaN        NaN  \n",
       "4916        NaN        NaN        NaN        NaN        NaN  \n",
       "1550        NaN        NaN        NaN        NaN        NaN  \n",
       "3081        NaN        NaN        NaN        NaN        NaN  \n",
       "3857        NaN        NaN        NaN        NaN        NaN  "
      ]
     },
     "execution_count": 211,
     "metadata": {},
     "output_type": "execute_result"
    }
   ],
   "source": [
    "for col in df.columns:\n",
    "    df[col] = df[col].str.replace('_',' ')\n",
    "df.head()"
   ]
  },
  {
   "cell_type": "markdown",
   "metadata": {
    "_cell_guid": "78557c8d-a2a0-473d-9069-42b051975473",
    "_uuid": "c6115f4c-2ede-4c40-8aa0-43295c6d1c7c",
    "papermill": {
     "duration": 0.030266,
     "end_time": "2021-08-30T15:05:17.979853",
     "exception": false,
     "start_time": "2021-08-30T15:05:17.949587",
     "status": "completed"
    },
    "tags": []
   },
   "source": [
    "**Dataset characteristics**"
   ]
  },
  {
   "cell_type": "code",
   "execution_count": 212,
   "metadata": {
    "_cell_guid": "14a82079-f2b6-46ce-950b-405f2f70abb6",
    "_uuid": "beb6dbf9-da62-478a-9040-d8711b444711",
    "collapsed": false,
    "jupyter": {
     "outputs_hidden": false
    },
    "papermill": {
     "duration": 0.139299,
     "end_time": "2021-08-30T15:05:18.145989",
     "exception": false,
     "start_time": "2021-08-30T15:05:18.00669",
     "status": "completed"
    },
    "tags": []
   },
   "outputs": [
    {
     "data": {
      "text/html": [
       "<div>\n",
       "<style scoped>\n",
       "    .dataframe tbody tr th:only-of-type {\n",
       "        vertical-align: middle;\n",
       "    }\n",
       "\n",
       "    .dataframe tbody tr th {\n",
       "        vertical-align: top;\n",
       "    }\n",
       "\n",
       "    .dataframe thead th {\n",
       "        text-align: right;\n",
       "    }\n",
       "</style>\n",
       "<table border=\"1\" class=\"dataframe\">\n",
       "  <thead>\n",
       "    <tr style=\"text-align: right;\">\n",
       "      <th></th>\n",
       "      <th>Disease</th>\n",
       "      <th>Symptom_1</th>\n",
       "      <th>Symptom_2</th>\n",
       "      <th>Symptom_3</th>\n",
       "      <th>Symptom_4</th>\n",
       "      <th>Symptom_5</th>\n",
       "      <th>Symptom_6</th>\n",
       "      <th>Symptom_7</th>\n",
       "      <th>Symptom_8</th>\n",
       "      <th>Symptom_9</th>\n",
       "      <th>Symptom_10</th>\n",
       "      <th>Symptom_11</th>\n",
       "      <th>Symptom_12</th>\n",
       "      <th>Symptom_13</th>\n",
       "      <th>Symptom_14</th>\n",
       "      <th>Symptom_15</th>\n",
       "      <th>Symptom_16</th>\n",
       "      <th>Symptom_17</th>\n",
       "    </tr>\n",
       "  </thead>\n",
       "  <tbody>\n",
       "    <tr>\n",
       "      <th>count</th>\n",
       "      <td>4920</td>\n",
       "      <td>4920</td>\n",
       "      <td>4920</td>\n",
       "      <td>4920</td>\n",
       "      <td>4572</td>\n",
       "      <td>3714</td>\n",
       "      <td>2934</td>\n",
       "      <td>2268</td>\n",
       "      <td>1944</td>\n",
       "      <td>1692</td>\n",
       "      <td>1512</td>\n",
       "      <td>1194</td>\n",
       "      <td>744</td>\n",
       "      <td>504</td>\n",
       "      <td>306</td>\n",
       "      <td>240</td>\n",
       "      <td>192</td>\n",
       "      <td>72</td>\n",
       "    </tr>\n",
       "    <tr>\n",
       "      <th>unique</th>\n",
       "      <td>41</td>\n",
       "      <td>34</td>\n",
       "      <td>48</td>\n",
       "      <td>54</td>\n",
       "      <td>50</td>\n",
       "      <td>38</td>\n",
       "      <td>32</td>\n",
       "      <td>26</td>\n",
       "      <td>21</td>\n",
       "      <td>22</td>\n",
       "      <td>21</td>\n",
       "      <td>18</td>\n",
       "      <td>11</td>\n",
       "      <td>8</td>\n",
       "      <td>4</td>\n",
       "      <td>3</td>\n",
       "      <td>3</td>\n",
       "      <td>1</td>\n",
       "    </tr>\n",
       "    <tr>\n",
       "      <th>top</th>\n",
       "      <td>Acne</td>\n",
       "      <td>vomiting</td>\n",
       "      <td>vomiting</td>\n",
       "      <td>fatigue</td>\n",
       "      <td>high fever</td>\n",
       "      <td>headache</td>\n",
       "      <td>nausea</td>\n",
       "      <td>abdominal pain</td>\n",
       "      <td>abdominal pain</td>\n",
       "      <td>yellowing of eyes</td>\n",
       "      <td>yellowing of eyes</td>\n",
       "      <td>irritability</td>\n",
       "      <td>malaise</td>\n",
       "      <td>stomach bleeding</td>\n",
       "      <td>chest pain</td>\n",
       "      <td>chest pain</td>\n",
       "      <td>loss of smell</td>\n",
       "      <td>muscle pain</td>\n",
       "    </tr>\n",
       "    <tr>\n",
       "      <th>freq</th>\n",
       "      <td>120</td>\n",
       "      <td>822</td>\n",
       "      <td>870</td>\n",
       "      <td>726</td>\n",
       "      <td>378</td>\n",
       "      <td>348</td>\n",
       "      <td>390</td>\n",
       "      <td>264</td>\n",
       "      <td>276</td>\n",
       "      <td>228</td>\n",
       "      <td>198</td>\n",
       "      <td>120</td>\n",
       "      <td>126</td>\n",
       "      <td>72</td>\n",
       "      <td>96</td>\n",
       "      <td>144</td>\n",
       "      <td>72</td>\n",
       "      <td>72</td>\n",
       "    </tr>\n",
       "  </tbody>\n",
       "</table>\n",
       "</div>"
      ],
      "text/plain": [
       "       Disease  Symptom_1  Symptom_2 Symptom_3    Symptom_4  Symptom_5  \\\n",
       "count     4920       4920       4920      4920         4572       3714   \n",
       "unique      41         34         48        54           50         38   \n",
       "top       Acne   vomiting   vomiting   fatigue   high fever   headache   \n",
       "freq       120        822        870       726          378        348   \n",
       "\n",
       "       Symptom_6        Symptom_7        Symptom_8           Symptom_9  \\\n",
       "count       2934             2268             1944                1692   \n",
       "unique        32               26               21                  22   \n",
       "top       nausea   abdominal pain   abdominal pain   yellowing of eyes   \n",
       "freq         390              264              276                 228   \n",
       "\n",
       "                Symptom_10     Symptom_11 Symptom_12         Symptom_13  \\\n",
       "count                 1512           1194        744                504   \n",
       "unique                  21             18         11                  8   \n",
       "top      yellowing of eyes   irritability    malaise   stomach bleeding   \n",
       "freq                   198            120        126                 72   \n",
       "\n",
       "         Symptom_14   Symptom_15      Symptom_16    Symptom_17  \n",
       "count           306          240             192            72  \n",
       "unique            4            3               3             1  \n",
       "top      chest pain   chest pain   loss of smell   muscle pain  \n",
       "freq             96          144              72            72  "
      ]
     },
     "execution_count": 212,
     "metadata": {},
     "output_type": "execute_result"
    }
   ],
   "source": [
    "df.describe()"
   ]
  },
  {
   "cell_type": "markdown",
   "metadata": {
    "_cell_guid": "56f93f7e-bd47-49d6-b0dc-bfed04a0697e",
    "_uuid": "ce5418f5-54ac-43c4-a7b3-311eda5688f8",
    "papermill": {
     "duration": 0.025542,
     "end_time": "2021-08-30T15:05:18.197707",
     "exception": false,
     "start_time": "2021-08-30T15:05:18.172165",
     "status": "completed"
    },
    "tags": []
   },
   "source": [
    "**Check for null and NaN values**"
   ]
  },
  {
   "cell_type": "code",
   "execution_count": 213,
   "metadata": {
    "_cell_guid": "93f88c82-f1df-490a-98a4-6ec5bb1d12b5",
    "_uuid": "03563103-4b47-410b-b357-26a8cc7dc49a",
    "collapsed": false,
    "jupyter": {
     "outputs_hidden": false
    }
   },
   "outputs": [
    {
     "name": "stdout",
     "output_type": "stream",
     "text": [
      "            count\n",
      "Disease         0\n",
      "Symptom_1       0\n",
      "Symptom_2       0\n",
      "Symptom_3       0\n",
      "Symptom_4     348\n",
      "Symptom_5    1206\n",
      "Symptom_6    1986\n",
      "Symptom_7    2652\n",
      "Symptom_8    2976\n",
      "Symptom_9    3228\n",
      "Symptom_10   3408\n",
      "Symptom_11   3726\n",
      "Symptom_12   4176\n",
      "Symptom_13   4416\n",
      "Symptom_14   4614\n",
      "Symptom_15   4680\n",
      "Symptom_16   4728\n",
      "Symptom_17   4848\n"
     ]
    }
   ],
   "source": [
    "null_checker = df.apply(lambda x: sum(x.isnull())).to_frame(name='count')\n",
    "print(null_checker)"
   ]
  },
  {
   "cell_type": "code",
   "execution_count": 214,
   "metadata": {
    "_cell_guid": "87008a7a-934f-41b8-8b28-34fdfa07519e",
    "_uuid": "2d7edf45-89a4-411e-80d1-57070ebf0968",
    "collapsed": false,
    "jupyter": {
     "outputs_hidden": false
    },
    "papermill": {
     "duration": 0.044062,
     "end_time": "2021-08-30T15:05:18.267712",
     "exception": false,
     "start_time": "2021-08-30T15:05:18.22365",
     "status": "completed"
    },
    "tags": []
   },
   "outputs": [
    {
     "data": {
      "image/png": "[encoded data removed]",
      "text/plain": [
       "<Figure size 1000x500 with 1 Axes>"
      ]
     },
     "metadata": {},
     "output_type": "display_data"
    }
   ],
   "source": [
    "\n",
    "plt.figure(figsize=(10,5))\n",
    "plt.plot(null_checker.index, null_checker['count'])\n",
    "plt.xticks(null_checker.index, null_checker.index, rotation=45,\n",
    "horizontalalignment='right')\n",
    "plt.title('Before removing Null values')\n",
    "plt.xlabel('column names')\n",
    "plt.margins(0.1)\n",
    "plt.show()"
   ]
  },
  {
   "cell_type": "markdown",
   "metadata": {
    "_cell_guid": "898e2022-4963-4147-a4dd-673bc6ba00a7",
    "_uuid": "77184a5d-7b3a-490c-bc17-4cce50f2a0d9",
    "papermill": {
     "duration": 0.026579,
     "end_time": "2021-08-30T15:05:18.393419",
     "exception": false,
     "start_time": "2021-08-30T15:05:18.36684",
     "status": "completed"
    },
    "tags": []
   },
   "source": [
    "**Remove the trailing space from the symptom columns**"
   ]
  },
  {
   "cell_type": "code",
   "execution_count": 215,
   "metadata": {
    "_cell_guid": "ed5970ec-69a3-410c-8327-f0ca6697facf",
    "_uuid": "5b215ab2-e0a9-486a-bcc5-e25add893722",
    "collapsed": false,
    "jupyter": {
     "outputs_hidden": false
    },
    "papermill": {
     "duration": 0.097172,
     "end_time": "2021-08-30T15:05:18.517252",
     "exception": false,
     "start_time": "2021-08-30T15:05:18.42008",
     "status": "completed"
    },
    "tags": []
   },
   "outputs": [
    {
     "data": {
      "text/html": [
       "<div>\n",
       "<style scoped>\n",
       "    .dataframe tbody tr th:only-of-type {\n",
       "        vertical-align: middle;\n",
       "    }\n",
       "\n",
       "    .dataframe tbody tr th {\n",
       "        vertical-align: top;\n",
       "    }\n",
       "\n",
       "    .dataframe thead th {\n",
       "        text-align: right;\n",
       "    }\n",
       "</style>\n",
       "<table border=\"1\" class=\"dataframe\">\n",
       "  <thead>\n",
       "    <tr style=\"text-align: right;\">\n",
       "      <th></th>\n",
       "      <th>Disease</th>\n",
       "      <th>Symptom_1</th>\n",
       "      <th>Symptom_2</th>\n",
       "      <th>Symptom_3</th>\n",
       "      <th>Symptom_4</th>\n",
       "      <th>Symptom_5</th>\n",
       "      <th>Symptom_6</th>\n",
       "      <th>Symptom_7</th>\n",
       "      <th>Symptom_8</th>\n",
       "      <th>Symptom_9</th>\n",
       "      <th>Symptom_10</th>\n",
       "      <th>Symptom_11</th>\n",
       "      <th>Symptom_12</th>\n",
       "      <th>Symptom_13</th>\n",
       "      <th>Symptom_14</th>\n",
       "      <th>Symptom_15</th>\n",
       "      <th>Symptom_16</th>\n",
       "      <th>Symptom_17</th>\n",
       "    </tr>\n",
       "  </thead>\n",
       "  <tbody>\n",
       "    <tr>\n",
       "      <th>0</th>\n",
       "      <td>Acne</td>\n",
       "      <td>skin rash</td>\n",
       "      <td>blackheads</td>\n",
       "      <td>scurring</td>\n",
       "      <td>NaN</td>\n",
       "      <td>NaN</td>\n",
       "      <td>NaN</td>\n",
       "      <td>NaN</td>\n",
       "      <td>NaN</td>\n",
       "      <td>NaN</td>\n",
       "      <td>NaN</td>\n",
       "      <td>NaN</td>\n",
       "      <td>NaN</td>\n",
       "      <td>NaN</td>\n",
       "      <td>NaN</td>\n",
       "      <td>NaN</td>\n",
       "      <td>NaN</td>\n",
       "      <td>NaN</td>\n",
       "    </tr>\n",
       "    <tr>\n",
       "      <th>1</th>\n",
       "      <td>Acne</td>\n",
       "      <td>skin rash</td>\n",
       "      <td>pus filled pimples</td>\n",
       "      <td>blackheads</td>\n",
       "      <td>scurring</td>\n",
       "      <td>NaN</td>\n",
       "      <td>NaN</td>\n",
       "      <td>NaN</td>\n",
       "      <td>NaN</td>\n",
       "      <td>NaN</td>\n",
       "      <td>NaN</td>\n",
       "      <td>NaN</td>\n",
       "      <td>NaN</td>\n",
       "      <td>NaN</td>\n",
       "      <td>NaN</td>\n",
       "      <td>NaN</td>\n",
       "      <td>NaN</td>\n",
       "      <td>NaN</td>\n",
       "    </tr>\n",
       "    <tr>\n",
       "      <th>2</th>\n",
       "      <td>Hyperthyroidism</td>\n",
       "      <td>fatigue</td>\n",
       "      <td>mood swings</td>\n",
       "      <td>weight loss</td>\n",
       "      <td>restlessness</td>\n",
       "      <td>sweating</td>\n",
       "      <td>diarrhoea</td>\n",
       "      <td>fast heart rate</td>\n",
       "      <td>excessive hunger</td>\n",
       "      <td>muscle weakness</td>\n",
       "      <td>irritability</td>\n",
       "      <td>abnormal menstruation</td>\n",
       "      <td>NaN</td>\n",
       "      <td>NaN</td>\n",
       "      <td>NaN</td>\n",
       "      <td>NaN</td>\n",
       "      <td>NaN</td>\n",
       "      <td>NaN</td>\n",
       "    </tr>\n",
       "    <tr>\n",
       "      <th>3</th>\n",
       "      <td>AIDS</td>\n",
       "      <td>muscle wasting</td>\n",
       "      <td>patches in throat</td>\n",
       "      <td>high fever</td>\n",
       "      <td>extra marital contacts</td>\n",
       "      <td>NaN</td>\n",
       "      <td>NaN</td>\n",
       "      <td>NaN</td>\n",
       "      <td>NaN</td>\n",
       "      <td>NaN</td>\n",
       "      <td>NaN</td>\n",
       "      <td>NaN</td>\n",
       "      <td>NaN</td>\n",
       "      <td>NaN</td>\n",
       "      <td>NaN</td>\n",
       "      <td>NaN</td>\n",
       "      <td>NaN</td>\n",
       "      <td>NaN</td>\n",
       "    </tr>\n",
       "    <tr>\n",
       "      <th>4</th>\n",
       "      <td>Chronic cholestasis</td>\n",
       "      <td>itching</td>\n",
       "      <td>vomiting</td>\n",
       "      <td>yellowish skin</td>\n",
       "      <td>nausea</td>\n",
       "      <td>loss of appetite</td>\n",
       "      <td>abdominal pain</td>\n",
       "      <td>yellowing of eyes</td>\n",
       "      <td>NaN</td>\n",
       "      <td>NaN</td>\n",
       "      <td>NaN</td>\n",
       "      <td>NaN</td>\n",
       "      <td>NaN</td>\n",
       "      <td>NaN</td>\n",
       "      <td>NaN</td>\n",
       "      <td>NaN</td>\n",
       "      <td>NaN</td>\n",
       "      <td>NaN</td>\n",
       "    </tr>\n",
       "  </tbody>\n",
       "</table>\n",
       "</div>"
      ],
      "text/plain": [
       "               Disease       Symptom_1           Symptom_2       Symptom_3  \\\n",
       "0                 Acne       skin rash          blackheads        scurring   \n",
       "1                 Acne       skin rash  pus filled pimples      blackheads   \n",
       "2      Hyperthyroidism         fatigue         mood swings     weight loss   \n",
       "3                 AIDS  muscle wasting   patches in throat      high fever   \n",
       "4  Chronic cholestasis         itching            vomiting  yellowish skin   \n",
       "\n",
       "                Symptom_4         Symptom_5       Symptom_6  \\\n",
       "0                     NaN               NaN             NaN   \n",
       "1                scurring               NaN             NaN   \n",
       "2            restlessness          sweating       diarrhoea   \n",
       "3  extra marital contacts               NaN             NaN   \n",
       "4                  nausea  loss of appetite  abdominal pain   \n",
       "\n",
       "           Symptom_7         Symptom_8        Symptom_9    Symptom_10  \\\n",
       "0                NaN               NaN              NaN           NaN   \n",
       "1                NaN               NaN              NaN           NaN   \n",
       "2    fast heart rate  excessive hunger  muscle weakness  irritability   \n",
       "3                NaN               NaN              NaN           NaN   \n",
       "4  yellowing of eyes               NaN              NaN           NaN   \n",
       "\n",
       "              Symptom_11 Symptom_12 Symptom_13 Symptom_14 Symptom_15  \\\n",
       "0                    NaN        NaN        NaN        NaN        NaN   \n",
       "1                    NaN        NaN        NaN        NaN        NaN   \n",
       "2  abnormal menstruation        NaN        NaN        NaN        NaN   \n",
       "3                    NaN        NaN        NaN        NaN        NaN   \n",
       "4                    NaN        NaN        NaN        NaN        NaN   \n",
       "\n",
       "  Symptom_16 Symptom_17  \n",
       "0        NaN        NaN  \n",
       "1        NaN        NaN  \n",
       "2        NaN        NaN  \n",
       "3        NaN        NaN  \n",
       "4        NaN        NaN  "
      ]
     },
     "execution_count": 215,
     "metadata": {},
     "output_type": "execute_result"
    }
   ],
   "source": [
    "\n",
    "cols = df.columns\n",
    "data = df[cols].values.flatten()\n",
    "\n",
    "s = pd.Series(data)\n",
    "s = s.str.strip()\n",
    "s = s.values.reshape(df.shape)\n",
    "\n",
    "df = pd.DataFrame(s, columns=df.columns)\n",
    "df.head()"
   ]
  },
  {
   "cell_type": "markdown",
   "metadata": {
    "_cell_guid": "c0904d9c-c75f-4aa6-b68a-870657ee7159",
    "_uuid": "70f88710-e15c-4741-8dc7-7eab588d3009",
    "papermill": {
     "duration": 0.027747,
     "end_time": "2021-08-30T15:05:18.57314",
     "exception": false,
     "start_time": "2021-08-30T15:05:18.545393",
     "status": "completed"
    },
    "tags": []
   },
   "source": [
    "**Fill the NaN values with zero**"
   ]
  },
  {
   "cell_type": "code",
   "execution_count": 216,
   "metadata": {
    "_cell_guid": "a0808f69-e215-43de-a320-c3634185edf1",
    "_uuid": "6088daf3-98bb-499d-ba1c-bd572e744676",
    "collapsed": false,
    "jupyter": {
     "outputs_hidden": false
    },
    "papermill": {
     "duration": 0.066576,
     "end_time": "2021-08-30T15:05:18.667519",
     "exception": false,
     "start_time": "2021-08-30T15:05:18.600943",
     "status": "completed"
    },
    "tags": []
   },
   "outputs": [
    {
     "data": {
      "text/html": [
       "<div>\n",
       "<style scoped>\n",
       "    .dataframe tbody tr th:only-of-type {\n",
       "        vertical-align: middle;\n",
       "    }\n",
       "\n",
       "    .dataframe tbody tr th {\n",
       "        vertical-align: top;\n",
       "    }\n",
       "\n",
       "    .dataframe thead th {\n",
       "        text-align: right;\n",
       "    }\n",
       "</style>\n",
       "<table border=\"1\" class=\"dataframe\">\n",
       "  <thead>\n",
       "    <tr style=\"text-align: right;\">\n",
       "      <th></th>\n",
       "      <th>Disease</th>\n",
       "      <th>Symptom_1</th>\n",
       "      <th>Symptom_2</th>\n",
       "      <th>Symptom_3</th>\n",
       "      <th>Symptom_4</th>\n",
       "      <th>Symptom_5</th>\n",
       "      <th>Symptom_6</th>\n",
       "      <th>Symptom_7</th>\n",
       "      <th>Symptom_8</th>\n",
       "      <th>Symptom_9</th>\n",
       "      <th>Symptom_10</th>\n",
       "      <th>Symptom_11</th>\n",
       "      <th>Symptom_12</th>\n",
       "      <th>Symptom_13</th>\n",
       "      <th>Symptom_14</th>\n",
       "      <th>Symptom_15</th>\n",
       "      <th>Symptom_16</th>\n",
       "      <th>Symptom_17</th>\n",
       "    </tr>\n",
       "  </thead>\n",
       "  <tbody>\n",
       "    <tr>\n",
       "      <th>0</th>\n",
       "      <td>Acne</td>\n",
       "      <td>skin rash</td>\n",
       "      <td>blackheads</td>\n",
       "      <td>scurring</td>\n",
       "      <td>0</td>\n",
       "      <td>0</td>\n",
       "      <td>0</td>\n",
       "      <td>0</td>\n",
       "      <td>0</td>\n",
       "      <td>0</td>\n",
       "      <td>0</td>\n",
       "      <td>0</td>\n",
       "      <td>0</td>\n",
       "      <td>0</td>\n",
       "      <td>0</td>\n",
       "      <td>0</td>\n",
       "      <td>0</td>\n",
       "      <td>0</td>\n",
       "    </tr>\n",
       "    <tr>\n",
       "      <th>1</th>\n",
       "      <td>Acne</td>\n",
       "      <td>skin rash</td>\n",
       "      <td>pus filled pimples</td>\n",
       "      <td>blackheads</td>\n",
       "      <td>scurring</td>\n",
       "      <td>0</td>\n",
       "      <td>0</td>\n",
       "      <td>0</td>\n",
       "      <td>0</td>\n",
       "      <td>0</td>\n",
       "      <td>0</td>\n",
       "      <td>0</td>\n",
       "      <td>0</td>\n",
       "      <td>0</td>\n",
       "      <td>0</td>\n",
       "      <td>0</td>\n",
       "      <td>0</td>\n",
       "      <td>0</td>\n",
       "    </tr>\n",
       "    <tr>\n",
       "      <th>2</th>\n",
       "      <td>Hyperthyroidism</td>\n",
       "      <td>fatigue</td>\n",
       "      <td>mood swings</td>\n",
       "      <td>weight loss</td>\n",
       "      <td>restlessness</td>\n",
       "      <td>sweating</td>\n",
       "      <td>diarrhoea</td>\n",
       "      <td>fast heart rate</td>\n",
       "      <td>excessive hunger</td>\n",
       "      <td>muscle weakness</td>\n",
       "      <td>irritability</td>\n",
       "      <td>abnormal menstruation</td>\n",
       "      <td>0</td>\n",
       "      <td>0</td>\n",
       "      <td>0</td>\n",
       "      <td>0</td>\n",
       "      <td>0</td>\n",
       "      <td>0</td>\n",
       "    </tr>\n",
       "    <tr>\n",
       "      <th>3</th>\n",
       "      <td>AIDS</td>\n",
       "      <td>muscle wasting</td>\n",
       "      <td>patches in throat</td>\n",
       "      <td>high fever</td>\n",
       "      <td>extra marital contacts</td>\n",
       "      <td>0</td>\n",
       "      <td>0</td>\n",
       "      <td>0</td>\n",
       "      <td>0</td>\n",
       "      <td>0</td>\n",
       "      <td>0</td>\n",
       "      <td>0</td>\n",
       "      <td>0</td>\n",
       "      <td>0</td>\n",
       "      <td>0</td>\n",
       "      <td>0</td>\n",
       "      <td>0</td>\n",
       "      <td>0</td>\n",
       "    </tr>\n",
       "    <tr>\n",
       "      <th>4</th>\n",
       "      <td>Chronic cholestasis</td>\n",
       "      <td>itching</td>\n",
       "      <td>vomiting</td>\n",
       "      <td>yellowish skin</td>\n",
       "      <td>nausea</td>\n",
       "      <td>loss of appetite</td>\n",
       "      <td>abdominal pain</td>\n",
       "      <td>yellowing of eyes</td>\n",
       "      <td>0</td>\n",
       "      <td>0</td>\n",
       "      <td>0</td>\n",
       "      <td>0</td>\n",
       "      <td>0</td>\n",
       "      <td>0</td>\n",
       "      <td>0</td>\n",
       "      <td>0</td>\n",
       "      <td>0</td>\n",
       "      <td>0</td>\n",
       "    </tr>\n",
       "  </tbody>\n",
       "</table>\n",
       "</div>"
      ],
      "text/plain": [
       "               Disease       Symptom_1           Symptom_2       Symptom_3  \\\n",
       "0                 Acne       skin rash          blackheads        scurring   \n",
       "1                 Acne       skin rash  pus filled pimples      blackheads   \n",
       "2      Hyperthyroidism         fatigue         mood swings     weight loss   \n",
       "3                 AIDS  muscle wasting   patches in throat      high fever   \n",
       "4  Chronic cholestasis         itching            vomiting  yellowish skin   \n",
       "\n",
       "                Symptom_4         Symptom_5       Symptom_6  \\\n",
       "0                       0                 0               0   \n",
       "1                scurring                 0               0   \n",
       "2            restlessness          sweating       diarrhoea   \n",
       "3  extra marital contacts                 0               0   \n",
       "4                  nausea  loss of appetite  abdominal pain   \n",
       "\n",
       "           Symptom_7         Symptom_8        Symptom_9    Symptom_10  \\\n",
       "0                  0                 0                0             0   \n",
       "1                  0                 0                0             0   \n",
       "2    fast heart rate  excessive hunger  muscle weakness  irritability   \n",
       "3                  0                 0                0             0   \n",
       "4  yellowing of eyes                 0                0             0   \n",
       "\n",
       "              Symptom_11 Symptom_12 Symptom_13 Symptom_14 Symptom_15  \\\n",
       "0                      0          0          0          0          0   \n",
       "1                      0          0          0          0          0   \n",
       "2  abnormal menstruation          0          0          0          0   \n",
       "3                      0          0          0          0          0   \n",
       "4                      0          0          0          0          0   \n",
       "\n",
       "  Symptom_16 Symptom_17  \n",
       "0          0          0  \n",
       "1          0          0  \n",
       "2          0          0  \n",
       "3          0          0  \n",
       "4          0          0  "
      ]
     },
     "execution_count": 216,
     "metadata": {},
     "output_type": "execute_result"
    }
   ],
   "source": [
    "df = df.fillna(0)\n",
    "df.head()"
   ]
  },
  {
   "cell_type": "markdown",
   "metadata": {
    "_cell_guid": "f54aa1bc-3a83-4c82-80df-1522dba1993f",
    "_uuid": "93cdd318-0a70-478c-9f07-5cddcdc61dc5",
    "papermill": {
     "duration": 0.027881,
     "end_time": "2021-08-30T15:05:18.7235",
     "exception": false,
     "start_time": "2021-08-30T15:05:18.695619",
     "status": "completed"
    },
    "tags": []
   },
   "source": [
    "**Symptom severity rank**"
   ]
  },
  {
   "cell_type": "code",
   "execution_count": 217,
   "metadata": {
    "_cell_guid": "1d432f5c-f8fa-4925-9fca-7be39c07c4d9",
    "_uuid": "d76fdc32-363a-4347-af14-924479214b10",
    "collapsed": false,
    "jupyter": {
     "outputs_hidden": false
    },
    "papermill": {
     "duration": 0.04616,
     "end_time": "2021-08-30T15:05:18.797645",
     "exception": false,
     "start_time": "2021-08-30T15:05:18.751485",
     "status": "completed"
    },
    "tags": []
   },
   "outputs": [
    {
     "data": {
      "text/html": [
       "<div>\n",
       "<style scoped>\n",
       "    .dataframe tbody tr th:only-of-type {\n",
       "        vertical-align: middle;\n",
       "    }\n",
       "\n",
       "    .dataframe tbody tr th {\n",
       "        vertical-align: top;\n",
       "    }\n",
       "\n",
       "    .dataframe thead th {\n",
       "        text-align: right;\n",
       "    }\n",
       "</style>\n",
       "<table border=\"1\" class=\"dataframe\">\n",
       "  <thead>\n",
       "    <tr style=\"text-align: right;\">\n",
       "      <th></th>\n",
       "      <th>Symptom</th>\n",
       "      <th>weight</th>\n",
       "    </tr>\n",
       "  </thead>\n",
       "  <tbody>\n",
       "    <tr>\n",
       "      <th>0</th>\n",
       "      <td>itching</td>\n",
       "      <td>1</td>\n",
       "    </tr>\n",
       "    <tr>\n",
       "      <th>1</th>\n",
       "      <td>skin rash</td>\n",
       "      <td>3</td>\n",
       "    </tr>\n",
       "    <tr>\n",
       "      <th>2</th>\n",
       "      <td>nodal skin eruptions</td>\n",
       "      <td>4</td>\n",
       "    </tr>\n",
       "    <tr>\n",
       "      <th>3</th>\n",
       "      <td>continuous sneezing</td>\n",
       "      <td>4</td>\n",
       "    </tr>\n",
       "    <tr>\n",
       "      <th>4</th>\n",
       "      <td>shivering</td>\n",
       "      <td>5</td>\n",
       "    </tr>\n",
       "    <tr>\n",
       "      <th>5</th>\n",
       "      <td>chills</td>\n",
       "      <td>3</td>\n",
       "    </tr>\n",
       "    <tr>\n",
       "      <th>6</th>\n",
       "      <td>joint pain</td>\n",
       "      <td>3</td>\n",
       "    </tr>\n",
       "    <tr>\n",
       "      <th>7</th>\n",
       "      <td>stomach pain</td>\n",
       "      <td>5</td>\n",
       "    </tr>\n",
       "    <tr>\n",
       "      <th>8</th>\n",
       "      <td>acidity</td>\n",
       "      <td>3</td>\n",
       "    </tr>\n",
       "    <tr>\n",
       "      <th>9</th>\n",
       "      <td>ulcers on tongue</td>\n",
       "      <td>4</td>\n",
       "    </tr>\n",
       "    <tr>\n",
       "      <th>10</th>\n",
       "      <td>muscle wasting</td>\n",
       "      <td>3</td>\n",
       "    </tr>\n",
       "    <tr>\n",
       "      <th>11</th>\n",
       "      <td>vomiting</td>\n",
       "      <td>5</td>\n",
       "    </tr>\n",
       "    <tr>\n",
       "      <th>12</th>\n",
       "      <td>burning micturition</td>\n",
       "      <td>6</td>\n",
       "    </tr>\n",
       "    <tr>\n",
       "      <th>13</th>\n",
       "      <td>spotting urination</td>\n",
       "      <td>6</td>\n",
       "    </tr>\n",
       "    <tr>\n",
       "      <th>14</th>\n",
       "      <td>fatigue</td>\n",
       "      <td>4</td>\n",
       "    </tr>\n",
       "    <tr>\n",
       "      <th>15</th>\n",
       "      <td>weight gain</td>\n",
       "      <td>3</td>\n",
       "    </tr>\n",
       "    <tr>\n",
       "      <th>16</th>\n",
       "      <td>anxiety</td>\n",
       "      <td>4</td>\n",
       "    </tr>\n",
       "    <tr>\n",
       "      <th>17</th>\n",
       "      <td>cold hands and feets</td>\n",
       "      <td>5</td>\n",
       "    </tr>\n",
       "    <tr>\n",
       "      <th>18</th>\n",
       "      <td>mood swings</td>\n",
       "      <td>3</td>\n",
       "    </tr>\n",
       "    <tr>\n",
       "      <th>19</th>\n",
       "      <td>weight loss</td>\n",
       "      <td>3</td>\n",
       "    </tr>\n",
       "    <tr>\n",
       "      <th>20</th>\n",
       "      <td>restlessness</td>\n",
       "      <td>5</td>\n",
       "    </tr>\n",
       "    <tr>\n",
       "      <th>21</th>\n",
       "      <td>lethargy</td>\n",
       "      <td>2</td>\n",
       "    </tr>\n",
       "    <tr>\n",
       "      <th>22</th>\n",
       "      <td>patches in throat</td>\n",
       "      <td>6</td>\n",
       "    </tr>\n",
       "    <tr>\n",
       "      <th>23</th>\n",
       "      <td>irregular sugar level</td>\n",
       "      <td>5</td>\n",
       "    </tr>\n",
       "    <tr>\n",
       "      <th>24</th>\n",
       "      <td>cough</td>\n",
       "      <td>4</td>\n",
       "    </tr>\n",
       "    <tr>\n",
       "      <th>25</th>\n",
       "      <td>high fever</td>\n",
       "      <td>7</td>\n",
       "    </tr>\n",
       "    <tr>\n",
       "      <th>26</th>\n",
       "      <td>sunken eyes</td>\n",
       "      <td>3</td>\n",
       "    </tr>\n",
       "    <tr>\n",
       "      <th>27</th>\n",
       "      <td>breathlessness</td>\n",
       "      <td>4</td>\n",
       "    </tr>\n",
       "    <tr>\n",
       "      <th>28</th>\n",
       "      <td>sweating</td>\n",
       "      <td>3</td>\n",
       "    </tr>\n",
       "    <tr>\n",
       "      <th>29</th>\n",
       "      <td>dehydration</td>\n",
       "      <td>4</td>\n",
       "    </tr>\n",
       "  </tbody>\n",
       "</table>\n",
       "</div>"
      ],
      "text/plain": [
       "                  Symptom  weight\n",
       "0                 itching       1\n",
       "1               skin rash       3\n",
       "2    nodal skin eruptions       4\n",
       "3     continuous sneezing       4\n",
       "4               shivering       5\n",
       "5                  chills       3\n",
       "6              joint pain       3\n",
       "7            stomach pain       5\n",
       "8                 acidity       3\n",
       "9        ulcers on tongue       4\n",
       "10         muscle wasting       3\n",
       "11               vomiting       5\n",
       "12    burning micturition       6\n",
       "13     spotting urination       6\n",
       "14                fatigue       4\n",
       "15            weight gain       3\n",
       "16                anxiety       4\n",
       "17   cold hands and feets       5\n",
       "18            mood swings       3\n",
       "19            weight loss       3\n",
       "20           restlessness       5\n",
       "21               lethargy       2\n",
       "22      patches in throat       6\n",
       "23  irregular sugar level       5\n",
       "24                  cough       4\n",
       "25             high fever       7\n",
       "26            sunken eyes       3\n",
       "27         breathlessness       4\n",
       "28               sweating       3\n",
       "29            dehydration       4"
      ]
     },
     "execution_count": 217,
     "metadata": {},
     "output_type": "execute_result"
    }
   ],
   "source": [
    "df1 = pd.read_csv('Symptom-severity.csv')\n",
    "df1['Symptom'] = df1['Symptom'].str.replace('_',' ')\n",
    "df1.head(30)"
   ]
  },
  {
   "cell_type": "markdown",
   "metadata": {
    "_cell_guid": "6714dd53-5370-437e-b310-c1fab54f6ebc",
    "_uuid": "6904ea6e-ce4c-4f0b-9191-51102483967f",
    "papermill": {
     "duration": 0.028392,
     "end_time": "2021-08-30T15:05:18.854505",
     "exception": false,
     "start_time": "2021-08-30T15:05:18.826113",
     "status": "completed"
    },
    "tags": []
   },
   "source": [
    "**Get overall list of symptoms**"
   ]
  },
  {
   "cell_type": "code",
   "execution_count": 218,
   "metadata": {
    "_cell_guid": "b03c9c89-9ab5-4d6d-bae1-91f7a0646a71",
    "_uuid": "e1485d20-86c0-4b22-8ae1-63af1b9cd6d3",
    "collapsed": false,
    "jupyter": {
     "outputs_hidden": false
    },
    "papermill": {
     "duration": 0.039041,
     "end_time": "2021-08-30T15:05:18.92221",
     "exception": false,
     "start_time": "2021-08-30T15:05:18.883169",
     "status": "completed"
    },
    "tags": []
   },
   "outputs": [
    {
     "data": {
      "text/plain": [
       "array(['itching', 'skin rash', 'nodal skin eruptions',\n",
       "       'continuous sneezing', 'shivering', 'chills', 'joint pain',\n",
       "       'stomach pain', 'acidity', 'ulcers on tongue', 'muscle wasting',\n",
       "       'vomiting', 'burning micturition', 'spotting urination', 'fatigue',\n",
       "       'weight gain', 'anxiety', 'cold hands and feets', 'mood swings',\n",
       "       'weight loss', 'restlessness', 'lethargy', 'patches in throat',\n",
       "       'irregular sugar level', 'cough', 'high fever', 'sunken eyes',\n",
       "       'breathlessness', 'sweating', 'dehydration', 'indigestion',\n",
       "       'headache', 'yellowish skin', 'dark urine', 'nausea',\n",
       "       'loss of appetite', 'pain behind the eyes', 'back pain',\n",
       "       'constipation', 'abdominal pain', 'diarrhoea', 'mild fever',\n",
       "       'yellow urine', 'yellowing of eyes', 'acute liver failure',\n",
       "       'fluid overload', 'swelling of stomach', 'swelled lymph nodes',\n",
       "       'malaise', 'blurred and distorted vision', 'phlegm',\n",
       "       'throat irritation', 'redness of eyes', 'sinus pressure',\n",
       "       'runny nose', 'congestion', 'chest pain', 'weakness in limbs',\n",
       "       'fast heart rate', 'pain during bowel movements',\n",
       "       'pain in anal region', 'bloody stool', 'irritation in anus',\n",
       "       'neck pain', 'dizziness', 'cramps', 'bruising', 'obesity',\n",
       "       'swollen legs', 'swollen blood vessels', 'puffy face and eyes',\n",
       "       'enlarged thyroid', 'brittle nails', 'swollen extremeties',\n",
       "       'excessive hunger', 'extra marital contacts',\n",
       "       'drying and tingling lips', 'slurred speech', 'knee pain',\n",
       "       'hip joint pain', 'muscle weakness', 'stiff neck',\n",
       "       'swelling joints', 'movement stiffness', 'spinning movements',\n",
       "       'loss of balance', 'unsteadiness', 'weakness of one body side',\n",
       "       'loss of smell', 'bladder discomfort', 'foul smell ofurine',\n",
       "       'continuous feel of urine', 'passage of gases', 'internal itching',\n",
       "       'toxic look (typhos)', 'depression', 'irritability', 'muscle pain',\n",
       "       'altered sensorium', 'red spots over body', 'belly pain',\n",
       "       'abnormal menstruation', 'dischromic patches',\n",
       "       'watering from eyes', 'increased appetite', 'polyuria',\n",
       "       'family history', 'mucoid sputum', 'rusty sputum',\n",
       "       'lack of concentration', 'visual disturbances',\n",
       "       'receiving blood transfusion', 'receiving unsterile injections',\n",
       "       'coma', 'stomach bleeding', 'distention of abdomen',\n",
       "       'history of alcohol consumption', 'blood in sputum',\n",
       "       'prominent veins on calf', 'palpitations', 'painful walking',\n",
       "       'pus filled pimples', 'blackheads', 'scurring', 'skin peeling',\n",
       "       'silver like dusting', 'small dents in nails',\n",
       "       'inflammatory nails', 'blister', 'red sore around nose',\n",
       "       'yellow crust ooze', 'prognosis'], dtype=object)"
      ]
     },
     "execution_count": 218,
     "metadata": {},
     "output_type": "execute_result"
    }
   ],
   "source": [
    "df1['Symptom'].unique()"
   ]
  },
  {
   "cell_type": "markdown",
   "metadata": {
    "_cell_guid": "61d79aed-3a85-4946-bddf-292d75d717f0",
    "_uuid": "7008e41b-15ea-4a00-bb83-d034d1ffe609",
    "papermill": {
     "duration": 0.029149,
     "end_time": "2021-08-30T15:05:18.980116",
     "exception": false,
     "start_time": "2021-08-30T15:05:18.950967",
     "status": "completed"
    },
    "tags": []
   },
   "source": [
    "**Encode symptoms in the data with the symptom rank**"
   ]
  },
  {
   "cell_type": "code",
   "execution_count": 219,
   "metadata": {
    "_cell_guid": "8eff5e73-f5db-4e55-8e22-657f48e402e9",
    "_uuid": "611e9eaa-ffdb-44a3-8593-578fc62d05e6",
    "collapsed": false,
    "jupyter": {
     "outputs_hidden": false
    },
    "papermill": {
     "duration": 0.689792,
     "end_time": "2021-08-30T15:05:19.699129",
     "exception": false,
     "start_time": "2021-08-30T15:05:19.009337",
     "status": "completed"
    },
    "tags": []
   },
   "outputs": [
    {
     "data": {
      "text/html": [
       "<div>\n",
       "<style scoped>\n",
       "    .dataframe tbody tr th:only-of-type {\n",
       "        vertical-align: middle;\n",
       "    }\n",
       "\n",
       "    .dataframe tbody tr th {\n",
       "        vertical-align: top;\n",
       "    }\n",
       "\n",
       "    .dataframe thead th {\n",
       "        text-align: right;\n",
       "    }\n",
       "</style>\n",
       "<table border=\"1\" class=\"dataframe\">\n",
       "  <thead>\n",
       "    <tr style=\"text-align: right;\">\n",
       "      <th></th>\n",
       "      <th>Disease</th>\n",
       "      <th>Symptom_1</th>\n",
       "      <th>Symptom_2</th>\n",
       "      <th>Symptom_3</th>\n",
       "      <th>Symptom_4</th>\n",
       "      <th>Symptom_5</th>\n",
       "      <th>Symptom_6</th>\n",
       "      <th>Symptom_7</th>\n",
       "      <th>Symptom_8</th>\n",
       "      <th>Symptom_9</th>\n",
       "      <th>Symptom_10</th>\n",
       "      <th>Symptom_11</th>\n",
       "      <th>Symptom_12</th>\n",
       "      <th>Symptom_13</th>\n",
       "      <th>Symptom_14</th>\n",
       "      <th>Symptom_15</th>\n",
       "      <th>Symptom_16</th>\n",
       "      <th>Symptom_17</th>\n",
       "    </tr>\n",
       "  </thead>\n",
       "  <tbody>\n",
       "    <tr>\n",
       "      <th>0</th>\n",
       "      <td>Acne</td>\n",
       "      <td>3</td>\n",
       "      <td>2</td>\n",
       "      <td>2</td>\n",
       "      <td>0</td>\n",
       "      <td>0</td>\n",
       "      <td>0</td>\n",
       "      <td>0</td>\n",
       "      <td>0</td>\n",
       "      <td>0</td>\n",
       "      <td>0</td>\n",
       "      <td>0</td>\n",
       "      <td>0</td>\n",
       "      <td>0</td>\n",
       "      <td>0</td>\n",
       "      <td>0</td>\n",
       "      <td>0</td>\n",
       "      <td>0</td>\n",
       "    </tr>\n",
       "    <tr>\n",
       "      <th>1</th>\n",
       "      <td>Acne</td>\n",
       "      <td>3</td>\n",
       "      <td>2</td>\n",
       "      <td>2</td>\n",
       "      <td>2</td>\n",
       "      <td>0</td>\n",
       "      <td>0</td>\n",
       "      <td>0</td>\n",
       "      <td>0</td>\n",
       "      <td>0</td>\n",
       "      <td>0</td>\n",
       "      <td>0</td>\n",
       "      <td>0</td>\n",
       "      <td>0</td>\n",
       "      <td>0</td>\n",
       "      <td>0</td>\n",
       "      <td>0</td>\n",
       "      <td>0</td>\n",
       "    </tr>\n",
       "    <tr>\n",
       "      <th>2</th>\n",
       "      <td>Hyperthyroidism</td>\n",
       "      <td>4</td>\n",
       "      <td>3</td>\n",
       "      <td>3</td>\n",
       "      <td>5</td>\n",
       "      <td>3</td>\n",
       "      <td>6</td>\n",
       "      <td>5</td>\n",
       "      <td>4</td>\n",
       "      <td>2</td>\n",
       "      <td>2</td>\n",
       "      <td>6</td>\n",
       "      <td>0</td>\n",
       "      <td>0</td>\n",
       "      <td>0</td>\n",
       "      <td>0</td>\n",
       "      <td>0</td>\n",
       "      <td>0</td>\n",
       "    </tr>\n",
       "    <tr>\n",
       "      <th>3</th>\n",
       "      <td>AIDS</td>\n",
       "      <td>3</td>\n",
       "      <td>6</td>\n",
       "      <td>7</td>\n",
       "      <td>5</td>\n",
       "      <td>0</td>\n",
       "      <td>0</td>\n",
       "      <td>0</td>\n",
       "      <td>0</td>\n",
       "      <td>0</td>\n",
       "      <td>0</td>\n",
       "      <td>0</td>\n",
       "      <td>0</td>\n",
       "      <td>0</td>\n",
       "      <td>0</td>\n",
       "      <td>0</td>\n",
       "      <td>0</td>\n",
       "      <td>0</td>\n",
       "    </tr>\n",
       "    <tr>\n",
       "      <th>4</th>\n",
       "      <td>Chronic cholestasis</td>\n",
       "      <td>1</td>\n",
       "      <td>5</td>\n",
       "      <td>3</td>\n",
       "      <td>5</td>\n",
       "      <td>4</td>\n",
       "      <td>4</td>\n",
       "      <td>4</td>\n",
       "      <td>0</td>\n",
       "      <td>0</td>\n",
       "      <td>0</td>\n",
       "      <td>0</td>\n",
       "      <td>0</td>\n",
       "      <td>0</td>\n",
       "      <td>0</td>\n",
       "      <td>0</td>\n",
       "      <td>0</td>\n",
       "      <td>0</td>\n",
       "    </tr>\n",
       "  </tbody>\n",
       "</table>\n",
       "</div>"
      ],
      "text/plain": [
       "               Disease Symptom_1 Symptom_2 Symptom_3 Symptom_4 Symptom_5  \\\n",
       "0                 Acne         3         2         2         0         0   \n",
       "1                 Acne         3         2         2         2         0   \n",
       "2      Hyperthyroidism         4         3         3         5         3   \n",
       "3                 AIDS         3         6         7         5         0   \n",
       "4  Chronic cholestasis         1         5         3         5         4   \n",
       "\n",
       "  Symptom_6 Symptom_7 Symptom_8 Symptom_9 Symptom_10 Symptom_11 Symptom_12  \\\n",
       "0         0         0         0         0          0          0          0   \n",
       "1         0         0         0         0          0          0          0   \n",
       "2         6         5         4         2          2          6          0   \n",
       "3         0         0         0         0          0          0          0   \n",
       "4         4         4         0         0          0          0          0   \n",
       "\n",
       "  Symptom_13 Symptom_14 Symptom_15 Symptom_16 Symptom_17  \n",
       "0          0          0          0          0          0  \n",
       "1          0          0          0          0          0  \n",
       "2          0          0          0          0          0  \n",
       "3          0          0          0          0          0  \n",
       "4          0          0          0          0          0  "
      ]
     },
     "execution_count": 219,
     "metadata": {},
     "output_type": "execute_result"
    }
   ],
   "source": [
    "vals = df.values\n",
    "symptoms = df1['Symptom'].unique()\n",
    "\n",
    "for i in range(len(symptoms)):\n",
    "    vals[vals == symptoms[i]] = df1[df1['Symptom'] == symptoms[i]]['weight'].values[0]\n",
    "    \n",
    "d = pd.DataFrame(vals, columns=cols)\n",
    "d.head()"
   ]
  },
  {
   "cell_type": "markdown",
   "metadata": {
    "_cell_guid": "6974f7cb-a2b5-42af-a97f-d2e66b247433",
    "_uuid": "ebc80d1f-3893-427e-9dce-239e9eb417d7",
    "papermill": {
     "duration": 0.029325,
     "end_time": "2021-08-30T15:05:19.757938",
     "exception": false,
     "start_time": "2021-08-30T15:05:19.728613",
     "status": "completed"
    },
    "tags": []
   },
   "source": [
    "**Assign symptoms with no rank to zero**"
   ]
  },
  {
   "cell_type": "code",
   "execution_count": 220,
   "metadata": {
    "_cell_guid": "e2302539-6fa6-4c17-9a62-08c78fff8c3b",
    "_uuid": "9cc19600-63d5-4dd5-885c-35d8a33111fa",
    "collapsed": false,
    "jupyter": {
     "outputs_hidden": false
    },
    "papermill": {
     "duration": 0.100573,
     "end_time": "2021-08-30T15:05:19.888131",
     "exception": false,
     "start_time": "2021-08-30T15:05:19.787558",
     "status": "completed"
    },
    "tags": []
   },
   "outputs": [
    {
     "data": {
      "text/html": [
       "<div>\n",
       "<style scoped>\n",
       "    .dataframe tbody tr th:only-of-type {\n",
       "        vertical-align: middle;\n",
       "    }\n",
       "\n",
       "    .dataframe tbody tr th {\n",
       "        vertical-align: top;\n",
       "    }\n",
       "\n",
       "    .dataframe thead th {\n",
       "        text-align: right;\n",
       "    }\n",
       "</style>\n",
       "<table border=\"1\" class=\"dataframe\">\n",
       "  <thead>\n",
       "    <tr style=\"text-align: right;\">\n",
       "      <th></th>\n",
       "      <th>Disease</th>\n",
       "      <th>Symptom_1</th>\n",
       "      <th>Symptom_2</th>\n",
       "      <th>Symptom_3</th>\n",
       "      <th>Symptom_4</th>\n",
       "      <th>Symptom_5</th>\n",
       "      <th>Symptom_6</th>\n",
       "      <th>Symptom_7</th>\n",
       "      <th>Symptom_8</th>\n",
       "      <th>Symptom_9</th>\n",
       "      <th>Symptom_10</th>\n",
       "      <th>Symptom_11</th>\n",
       "      <th>Symptom_12</th>\n",
       "      <th>Symptom_13</th>\n",
       "      <th>Symptom_14</th>\n",
       "      <th>Symptom_15</th>\n",
       "      <th>Symptom_16</th>\n",
       "      <th>Symptom_17</th>\n",
       "    </tr>\n",
       "  </thead>\n",
       "  <tbody>\n",
       "    <tr>\n",
       "      <th>0</th>\n",
       "      <td>Acne</td>\n",
       "      <td>3</td>\n",
       "      <td>2</td>\n",
       "      <td>2</td>\n",
       "      <td>0</td>\n",
       "      <td>0</td>\n",
       "      <td>0</td>\n",
       "      <td>0</td>\n",
       "      <td>0</td>\n",
       "      <td>0</td>\n",
       "      <td>0</td>\n",
       "      <td>0</td>\n",
       "      <td>0</td>\n",
       "      <td>0</td>\n",
       "      <td>0</td>\n",
       "      <td>0</td>\n",
       "      <td>0</td>\n",
       "      <td>0</td>\n",
       "    </tr>\n",
       "    <tr>\n",
       "      <th>1</th>\n",
       "      <td>Acne</td>\n",
       "      <td>3</td>\n",
       "      <td>2</td>\n",
       "      <td>2</td>\n",
       "      <td>2</td>\n",
       "      <td>0</td>\n",
       "      <td>0</td>\n",
       "      <td>0</td>\n",
       "      <td>0</td>\n",
       "      <td>0</td>\n",
       "      <td>0</td>\n",
       "      <td>0</td>\n",
       "      <td>0</td>\n",
       "      <td>0</td>\n",
       "      <td>0</td>\n",
       "      <td>0</td>\n",
       "      <td>0</td>\n",
       "      <td>0</td>\n",
       "    </tr>\n",
       "    <tr>\n",
       "      <th>2</th>\n",
       "      <td>Hyperthyroidism</td>\n",
       "      <td>4</td>\n",
       "      <td>3</td>\n",
       "      <td>3</td>\n",
       "      <td>5</td>\n",
       "      <td>3</td>\n",
       "      <td>6</td>\n",
       "      <td>5</td>\n",
       "      <td>4</td>\n",
       "      <td>2</td>\n",
       "      <td>2</td>\n",
       "      <td>6</td>\n",
       "      <td>0</td>\n",
       "      <td>0</td>\n",
       "      <td>0</td>\n",
       "      <td>0</td>\n",
       "      <td>0</td>\n",
       "      <td>0</td>\n",
       "    </tr>\n",
       "    <tr>\n",
       "      <th>3</th>\n",
       "      <td>AIDS</td>\n",
       "      <td>3</td>\n",
       "      <td>6</td>\n",
       "      <td>7</td>\n",
       "      <td>5</td>\n",
       "      <td>0</td>\n",
       "      <td>0</td>\n",
       "      <td>0</td>\n",
       "      <td>0</td>\n",
       "      <td>0</td>\n",
       "      <td>0</td>\n",
       "      <td>0</td>\n",
       "      <td>0</td>\n",
       "      <td>0</td>\n",
       "      <td>0</td>\n",
       "      <td>0</td>\n",
       "      <td>0</td>\n",
       "      <td>0</td>\n",
       "    </tr>\n",
       "    <tr>\n",
       "      <th>4</th>\n",
       "      <td>Chronic cholestasis</td>\n",
       "      <td>1</td>\n",
       "      <td>5</td>\n",
       "      <td>3</td>\n",
       "      <td>5</td>\n",
       "      <td>4</td>\n",
       "      <td>4</td>\n",
       "      <td>4</td>\n",
       "      <td>0</td>\n",
       "      <td>0</td>\n",
       "      <td>0</td>\n",
       "      <td>0</td>\n",
       "      <td>0</td>\n",
       "      <td>0</td>\n",
       "      <td>0</td>\n",
       "      <td>0</td>\n",
       "      <td>0</td>\n",
       "      <td>0</td>\n",
       "    </tr>\n",
       "    <tr>\n",
       "      <th>5</th>\n",
       "      <td>Hypertension</td>\n",
       "      <td>3</td>\n",
       "      <td>7</td>\n",
       "      <td>4</td>\n",
       "      <td>4</td>\n",
       "      <td>3</td>\n",
       "      <td>0</td>\n",
       "      <td>0</td>\n",
       "      <td>0</td>\n",
       "      <td>0</td>\n",
       "      <td>0</td>\n",
       "      <td>0</td>\n",
       "      <td>0</td>\n",
       "      <td>0</td>\n",
       "      <td>0</td>\n",
       "      <td>0</td>\n",
       "      <td>0</td>\n",
       "      <td>0</td>\n",
       "    </tr>\n",
       "    <tr>\n",
       "      <th>6</th>\n",
       "      <td>Hypoglycemia</td>\n",
       "      <td>5</td>\n",
       "      <td>4</td>\n",
       "      <td>4</td>\n",
       "      <td>3</td>\n",
       "      <td>3</td>\n",
       "      <td>5</td>\n",
       "      <td>5</td>\n",
       "      <td>4</td>\n",
       "      <td>4</td>\n",
       "      <td>4</td>\n",
       "      <td>2</td>\n",
       "      <td>4</td>\n",
       "      <td>0</td>\n",
       "      <td>0</td>\n",
       "      <td>0</td>\n",
       "      <td>0</td>\n",
       "      <td>0</td>\n",
       "    </tr>\n",
       "    <tr>\n",
       "      <th>7</th>\n",
       "      <td>Arthritis</td>\n",
       "      <td>2</td>\n",
       "      <td>4</td>\n",
       "      <td>5</td>\n",
       "      <td>2</td>\n",
       "      <td>0</td>\n",
       "      <td>0</td>\n",
       "      <td>0</td>\n",
       "      <td>0</td>\n",
       "      <td>0</td>\n",
       "      <td>0</td>\n",
       "      <td>0</td>\n",
       "      <td>0</td>\n",
       "      <td>0</td>\n",
       "      <td>0</td>\n",
       "      <td>0</td>\n",
       "      <td>0</td>\n",
       "      <td>0</td>\n",
       "    </tr>\n",
       "    <tr>\n",
       "      <th>8</th>\n",
       "      <td>Hepatitis B</td>\n",
       "      <td>1</td>\n",
       "      <td>4</td>\n",
       "      <td>2</td>\n",
       "      <td>3</td>\n",
       "      <td>4</td>\n",
       "      <td>4</td>\n",
       "      <td>4</td>\n",
       "      <td>4</td>\n",
       "      <td>4</td>\n",
       "      <td>6</td>\n",
       "      <td>5</td>\n",
       "      <td>2</td>\n",
       "      <td>0</td>\n",
       "      <td>0</td>\n",
       "      <td>0</td>\n",
       "      <td>0</td>\n",
       "      <td>0</td>\n",
       "    </tr>\n",
       "    <tr>\n",
       "      <th>9</th>\n",
       "      <td>Migraine</td>\n",
       "      <td>3</td>\n",
       "      <td>5</td>\n",
       "      <td>3</td>\n",
       "      <td>5</td>\n",
       "      <td>4</td>\n",
       "      <td>4</td>\n",
       "      <td>3</td>\n",
       "      <td>2</td>\n",
       "      <td>3</td>\n",
       "      <td>0</td>\n",
       "      <td>0</td>\n",
       "      <td>0</td>\n",
       "      <td>0</td>\n",
       "      <td>0</td>\n",
       "      <td>0</td>\n",
       "      <td>0</td>\n",
       "      <td>0</td>\n",
       "    </tr>\n",
       "  </tbody>\n",
       "</table>\n",
       "</div>"
      ],
      "text/plain": [
       "               Disease  Symptom_1  Symptom_2  Symptom_3  Symptom_4  Symptom_5  \\\n",
       "0                 Acne          3          2          2          0          0   \n",
       "1                 Acne          3          2          2          2          0   \n",
       "2      Hyperthyroidism          4          3          3          5          3   \n",
       "3                 AIDS          3          6          7          5          0   \n",
       "4  Chronic cholestasis          1          5          3          5          4   \n",
       "5         Hypertension          3          7          4          4          3   \n",
       "6         Hypoglycemia          5          4          4          3          3   \n",
       "7            Arthritis          2          4          5          2          0   \n",
       "8          Hepatitis B          1          4          2          3          4   \n",
       "9             Migraine          3          5          3          5          4   \n",
       "\n",
       "   Symptom_6  Symptom_7  Symptom_8  Symptom_9  Symptom_10  Symptom_11  \\\n",
       "0          0          0          0          0           0           0   \n",
       "1          0          0          0          0           0           0   \n",
       "2          6          5          4          2           2           6   \n",
       "3          0          0          0          0           0           0   \n",
       "4          4          4          0          0           0           0   \n",
       "5          0          0          0          0           0           0   \n",
       "6          5          5          4          4           4           2   \n",
       "7          0          0          0          0           0           0   \n",
       "8          4          4          4          4           6           5   \n",
       "9          4          3          2          3           0           0   \n",
       "\n",
       "   Symptom_12  Symptom_13  Symptom_14  Symptom_15  Symptom_16  Symptom_17  \n",
       "0           0           0           0           0           0           0  \n",
       "1           0           0           0           0           0           0  \n",
       "2           0           0           0           0           0           0  \n",
       "3           0           0           0           0           0           0  \n",
       "4           0           0           0           0           0           0  \n",
       "5           0           0           0           0           0           0  \n",
       "6           4           0           0           0           0           0  \n",
       "7           0           0           0           0           0           0  \n",
       "8           2           0           0           0           0           0  \n",
       "9           0           0           0           0           0           0  "
      ]
     },
     "execution_count": 220,
     "metadata": {},
     "output_type": "execute_result"
    }
   ],
   "source": [
    "d = d.replace('dischromic  patches', 0)\n",
    "d = d.replace('spotting  urination',0)\n",
    "df = d.replace('foul smell of urine',0)\n",
    "df.head(10)"
   ]
  },
  {
   "cell_type": "markdown",
   "metadata": {
    "_cell_guid": "8fca4221-feb8-47da-88ef-1ceacc044a0d",
    "_uuid": "097e0035-b42a-4730-b9f9-fcc81adba99c",
    "papermill": {
     "duration": 0.02973,
     "end_time": "2021-08-30T15:05:19.948081",
     "exception": false,
     "start_time": "2021-08-30T15:05:19.918351",
     "status": "completed"
    },
    "tags": []
   },
   "source": [
    "**Check if entire columns have zero values so we can drop those values**"
   ]
  },
  {
   "cell_type": "code",
   "execution_count": 221,
   "metadata": {
    "_cell_guid": "6cd61d74-8ce2-4ecc-91af-6150b2aa7a07",
    "_uuid": "0dd702ce-df6a-43d6-b666-6683b3a83a83",
    "collapsed": false,
    "jupyter": {
     "outputs_hidden": false
    },
    "papermill": {
     "duration": 0.046686,
     "end_time": "2021-08-30T15:05:20.024958",
     "exception": false,
     "start_time": "2021-08-30T15:05:19.978272",
     "status": "completed"
    },
    "tags": []
   },
   "outputs": [
    {
     "name": "stdout",
     "output_type": "stream",
     "text": [
      "            count\n",
      "Disease         0\n",
      "Symptom_1       0\n",
      "Symptom_2       0\n",
      "Symptom_3       0\n",
      "Symptom_4       0\n",
      "Symptom_5       0\n",
      "Symptom_6       0\n",
      "Symptom_7       0\n",
      "Symptom_8       0\n",
      "Symptom_9       0\n",
      "Symptom_10      0\n",
      "Symptom_11      0\n",
      "Symptom_12      0\n",
      "Symptom_13      0\n",
      "Symptom_14      0\n",
      "Symptom_15      0\n",
      "Symptom_16      0\n",
      "Symptom_17      0\n"
     ]
    }
   ],
   "source": [
    "null_checker = df.apply(lambda x: sum(x.isnull())).to_frame(name='count')\n",
    "print(null_checker)"
   ]
  },
  {
   "cell_type": "code",
   "execution_count": 222,
   "metadata": {
    "_cell_guid": "21f77440-eb5e-4618-aea3-dc2efc707040",
    "_uuid": "2a7fd353-14a9-477a-90d9-4b2be95920f7",
    "collapsed": false,
    "jupyter": {
     "outputs_hidden": false
    }
   },
   "outputs": [
    {
     "data": {
      "image/png": "[encoded data removed]",
      "text/plain": [
       "<Figure size 1000x500 with 1 Axes>"
      ]
     },
     "metadata": {},
     "output_type": "display_data"
    }
   ],
   "source": [
    "plt.figure(figsize=(10,5))\n",
    "plt.plot(null_checker.index, null_checker['count'])\n",
    "plt.xticks(null_checker.index, null_checker.index, rotation=45,\n",
    "horizontalalignment='right')\n",
    "plt.title('After removing Null values')\n",
    "plt.xlabel('column names')\n",
    "plt.margins(0.01)\n",
    "plt.show()"
   ]
  },
  {
   "cell_type": "code",
   "execution_count": 223,
   "metadata": {
    "_cell_guid": "2fc05134-a8fd-42e6-be79-92d2c83328c4",
    "_uuid": "f0559287-b607-4bd0-a07c-93e8a144a982",
    "collapsed": false,
    "jupyter": {
     "outputs_hidden": false
    }
   },
   "outputs": [
    {
     "name": "stdout",
     "output_type": "stream",
     "text": [
      "Number of symptoms used to identify the disease  132\n",
      "Number of diseases that can be identified  41\n"
     ]
    }
   ],
   "source": [
    "print(\"Number of symptoms used to identify the disease \",len(df1['Symptom'].unique()))\n",
    "print(\"Number of diseases that can be identified \",len(df['Disease'].unique()))"
   ]
  },
  {
   "cell_type": "markdown",
   "metadata": {
    "_cell_guid": "68faa3c9-2e3d-4e3b-ad38-7bdecff9be19",
    "_uuid": "866d4ebe-823c-45c4-b725-71e4810e2bd5",
    "papermill": {
     "duration": 0.031307,
     "end_time": "2021-08-30T15:05:20.164109",
     "exception": false,
     "start_time": "2021-08-30T15:05:20.132802",
     "status": "completed"
    },
    "tags": []
   },
   "source": [
    "**Get the names of diseases from data**"
   ]
  },
  {
   "cell_type": "code",
   "execution_count": 224,
   "metadata": {
    "_cell_guid": "edf05d9a-3867-462c-941e-1064a9671b47",
    "_uuid": "31370021-65d3-4a6f-a1f2-3057605bc70b",
    "collapsed": false,
    "jupyter": {
     "outputs_hidden": false
    },
    "papermill": {
     "duration": 0.041096,
     "end_time": "2021-08-30T15:05:20.236599",
     "exception": false,
     "start_time": "2021-08-30T15:05:20.195503",
     "status": "completed"
    },
    "tags": []
   },
   "outputs": [
    {
     "data": {
      "text/plain": [
       "array(['Acne', 'Hyperthyroidism', 'AIDS', 'Chronic cholestasis',\n",
       "       'Hypertension', 'Hypoglycemia', 'Arthritis', 'Hepatitis B',\n",
       "       'Migraine', 'Urinary tract infection', 'Diabetes', 'Hepatitis D',\n",
       "       'Psoriasis', 'Alcoholic hepatitis', 'Dimorphic hemmorhoids(piles)',\n",
       "       'Hepatitis E', 'Cervical spondylosis', 'Bronchial Asthma',\n",
       "       'hepatitis A', 'Allergy', 'Hepatitis C', 'Pneumonia',\n",
       "       'Hypothyroidism', 'Gastroenteritis', 'Varicose veins', 'Jaundice',\n",
       "       'Drug Reaction', '(vertigo) Paroymsal  Positional Vertigo',\n",
       "       'Heart attack', 'Tuberculosis', 'Typhoid', 'Common Cold',\n",
       "       'Peptic ulcer diseae', 'Paralysis (brain hemorrhage)',\n",
       "       'Fungal infection', 'Impetigo', 'GERD', 'Dengue', 'Malaria',\n",
       "       'Chicken pox', 'Osteoarthristis'], dtype=object)"
      ]
     },
     "execution_count": 224,
     "metadata": {},
     "output_type": "execute_result"
    }
   ],
   "source": [
    "df['Disease'].unique()"
   ]
  },
  {
   "cell_type": "markdown",
   "metadata": {
    "_cell_guid": "18ee0dab-0601-4f9c-b8bb-7891e041184f",
    "_uuid": "4474ec57-74c6-4dc8-ac9f-953a2b30d95f",
    "papermill": {
     "duration": 0.031128,
     "end_time": "2021-08-30T15:05:20.299065",
     "exception": false,
     "start_time": "2021-08-30T15:05:20.267937",
     "status": "completed"
    },
    "tags": []
   },
   "source": [
    "### Select the features as symptoms column and label as Disease column\n",
    "\n",
    "Explination: A **feature** is an input; **label** is an output.\n",
    "A feature is one column of the data in your input set. For instance, if you're trying to predict the type of pet someone will choose, your input features might include age, home region, family income, etc. The label is the final choice, such as dog, fish, iguana, rock, etc.\n",
    "\n",
    "Once you've trained your model, you will give it sets of new input containing those features; it will return the predicted \"label\" (pet type) for that person."
   ]
  },
  {
   "cell_type": "code",
   "execution_count": 225,
   "metadata": {
    "_cell_guid": "d4ff920c-64ec-4d35-9336-fdabd0b22f1a",
    "_uuid": "29d03525-5cdc-4697-a355-65fe20426a2e",
    "collapsed": false,
    "jupyter": {
     "outputs_hidden": false
    },
    "papermill": {
     "duration": 0.040479,
     "end_time": "2021-08-30T15:05:20.434812",
     "exception": false,
     "start_time": "2021-08-30T15:05:20.394333",
     "status": "completed"
    },
    "tags": []
   },
   "outputs": [],
   "source": [
    "data = df.iloc[:,1:].values\n",
    "labels = df['Disease'].values"
   ]
  },
  {
   "cell_type": "markdown",
   "metadata": {
    "_cell_guid": "44a9f70d-ea31-4753-9939-c1829f42f7e8",
    "_uuid": "47dce789-6260-4ed0-adce-56422ba9e22c",
    "papermill": {
     "duration": 0.030902,
     "end_time": "2021-08-30T15:05:20.497131",
     "exception": false,
     "start_time": "2021-08-30T15:05:20.466229",
     "status": "completed"
    },
    "tags": []
   },
   "source": [
    "## Splitting the dataset to training (80%) and testing (20%)\n",
    "\n",
    "Separating data into training and testing sets is an important part of evaluating data mining models. Typically, when you separate a data set into a training set and testing set, most of the data is used for training, and a smaller portion of the data is used for testing. By using similar data for training and testing, you can minimize the effects of data discrepancies and better understand the characteristics of the model.\n",
    "After a model has been processed by using the training set, we test the model by making predictions against the test set. Because the data in the testing set already contains known values for the attribute that you want to predict, it is easy to determine whether the model's guesses are correct.\n",
    "\n",
    "* Train Dataset: Used to fit the machine learning model.\n",
    "* Test Dataset: Used to evaluate the fit machine learning model."
   ]
  },
  {
   "cell_type": "code",
   "execution_count": 226,
   "metadata": {
    "_cell_guid": "eba54136-513f-4b10-8009-017d6314cd1b",
    "_uuid": "12a704c1-408f-49c4-9bf8-688c51f0fde4",
    "collapsed": false,
    "jupyter": {
     "outputs_hidden": false
    }
   },
   "outputs": [
    {
     "name": "stdout",
     "output_type": "stream",
     "text": [
      "(3936, 17) (984, 17) (3936,) (984,)\n"
     ]
    }
   ],
   "source": [
    "x_train, x_test, y_train, y_test = train_test_split(data, labels, train_size = 0.8,random_state=42)\n",
    "print(x_train.shape, x_test.shape, y_train.shape, y_test.shape)"
   ]
  },
  {
   "cell_type": "markdown",
   "metadata": {
    "_cell_guid": "7015d70f-7c62-44b8-b5e8-d1da80d267dc",
    "_uuid": "4cb981fa-26b0-4107-a048-c4051dbaa4da"
   },
   "source": [
    "### Compute the F1 score, also known as balanced F-score or F-measure.\n",
    "\n",
    "The F1 score can be interpreted as a weighted average of the precision and\n",
    "recall, where an F1 score reaches its best value at 1 and worst score at 0.\n",
    "The relative contribution of precision and recall to the F1 score are\n",
    "equal. The formula for the F1 score is\n",
    "\n",
    "    F1 = 2 * (precision * recall) / (precision + recall)"
   ]
  },
  {
   "cell_type": "markdown",
   "metadata": {
    "_cell_guid": "c5efdc06-c346-4ee6-944b-3a6d7e5c3032",
    "_uuid": "92928d82-f8a6-4499-bde3-e2488aebcc57"
   },
   "source": [
    "# Decision Tree"
   ]
  },
  {
   "cell_type": "code",
   "execution_count": 227,
   "metadata": {
    "_cell_guid": "c8a9e420-8f98-4308-b367-57b113fb449c",
    "_uuid": "8bdeebe4-9432-47ee-802a-1c58244619d1",
    "collapsed": false,
    "jupyter": {
     "outputs_hidden": false
    }
   },
   "outputs": [
    {
     "name": "stdout",
     "output_type": "stream",
     "text": [
      "F1-score% = 95.7812664665753 | Accuracy% = 95.83333333333334\n"
     ]
    }
   ],
   "source": [
    "tree =DecisionTreeClassifier(criterion='gini',random_state=42,max_depth=13)\n",
    "tree.fit(x_train, y_train)\n",
    "preds=tree.predict(x_test)\n",
    "print('F1-score% =', f1_score(y_test, preds, average='macro')*100, '|', 'Accuracy% =', accuracy_score(y_test, preds)*100)\n",
    "\n"
   ]
  },
  {
   "cell_type": "code",
   "execution_count": 228,
   "metadata": {
    "_cell_guid": "7f51eb7f-7e3a-41c5-8d8c-554e2d0d1343",
    "_uuid": "94286911-3306-458a-8f0e-a77e59ed78ea",
    "collapsed": false,
    "jupyter": {
     "outputs_hidden": false
    }
   },
   "outputs": [
    {
     "name": "stdout",
     "output_type": "stream",
     "text": [
      "Mean Accuracy: 95.706%, Standard Deviation: (1.99%)\n"
     ]
    }
   ],
   "source": [
    "kfold = KFold(n_splits=10,shuffle=True,random_state=42)\n",
    "DS_train =cross_val_score(tree, x_train, y_train, cv=kfold, scoring='accuracy')\n",
    "pd.DataFrame(DS_train,columns=['Scores'])\n",
    "print(\"Mean Accuracy: %.3f%%, Standard Deviation: (%.2f%%)\" % (DS_train.mean()*100.0, DS_train.std()*100.0))"
   ]
  },
  {
   "cell_type": "code",
   "execution_count": 229,
   "metadata": {
    "_cell_guid": "802a24a9-7595-4dc5-891a-046cb17de946",
    "_uuid": "a15f00f5-92ab-4209-b27b-ab93dda10f70",
    "collapsed": false,
    "jupyter": {
     "outputs_hidden": false
    }
   },
   "outputs": [
    {
     "name": "stdout",
     "output_type": "stream",
     "text": [
      "Mean Accuracy: 94.198%, Standard Deviation: (3.57%)\n"
     ]
    }
   ],
   "source": [
    "kfold = KFold(n_splits=10,shuffle=True,random_state=42)\n",
    "DS_test =cross_val_score(tree, x_test, y_test, cv=kfold, scoring='accuracy')\n",
    "pd.DataFrame(DS_test,columns=['Scores'])\n",
    "print(\"Mean Accuracy: %.3f%%, Standard Deviation: (%.2f%%)\" % (DS_test.mean()*100.0, DS_test.std()*100.0))"
   ]
  },
  {
   "cell_type": "markdown",
   "metadata": {
    "_cell_guid": "af666bda-8bd8-48c2-895b-1494e3fc10ab",
    "_uuid": "5e8264a7-caca-46f5-9dc8-910373c6757c"
   },
   "source": [
    "# Random Forest"
   ]
  },
  {
   "cell_type": "code",
   "execution_count": 230,
   "metadata": {
    "_cell_guid": "a870e5f4-9438-4b74-b89a-7d308a8b4d5d",
    "_uuid": "7d7019c6-586d-4903-ac8b-bd66ebb32ae3",
    "collapsed": false,
    "jupyter": {
     "outputs_hidden": false
    }
   },
   "outputs": [],
   "source": [
    "rfc=RandomForestClassifier(random_state=42)"
   ]
  },
  {
   "cell_type": "code",
   "execution_count": 231,
   "metadata": {
    "_cell_guid": "1855177b-822b-46b7-bc97-e962af727a04",
    "_uuid": "a563b409-5026-4353-97a9-30f95eff42eb",
    "collapsed": false,
    "jupyter": {
     "outputs_hidden": false
    }
   },
   "outputs": [
    {
     "name": "stdout",
     "output_type": "stream",
     "text": [
      "[3 5 3 5 4 4 3 2 3 0 0 0 0 0 0 0 0]\n",
      "Migraine\n",
      "F1-score% = 99.58380389536958 | Accuracy% = 99.59349593495935\n"
     ]
    },
    {
     "data": {
      "text/plain": [
       "<Axes: >"
      ]
     },
     "execution_count": 231,
     "metadata": {},
     "output_type": "execute_result"
    },
    {
     "data": {
      "image/png": "[encoded data removed]",
      "text/plain": [
       "<Figure size 640x480 with 2 Axes>"
      ]
     },
     "metadata": {},
     "output_type": "display_data"
    }
   ],
   "source": [
    "rfc = RandomForestClassifier(random_state=42, max_features='sqrt', n_estimators= 500, max_depth=13)\n",
    "rfc.fit(x_train,y_train)\n",
    "preds= rfc.predict(x_test)\n",
    "print(x_test[0])\n",
    "print(preds[0])\n",
    "conf_mat = confusion_matrix(y_test, preds)\n",
    "df_cm = pd.DataFrame(conf_mat, index=df['Disease'].unique(), columns=df['Disease'].unique())\n",
    "print('F1-score% =', f1_score(y_test, preds, average='macro')*100, '|', 'Accuracy% =', accuracy_score(y_test, preds)*100)\n",
    "sns.heatmap(df_cm)"
   ]
  },
  {
   "cell_type": "code",
   "execution_count": 232,
   "metadata": {
    "_cell_guid": "8e5a217d-4e05-41d8-b381-a1f8f583cd8a",
    "_uuid": "cb0b2ccc-9359-410a-92b8-5636c44bf917",
    "collapsed": false,
    "jupyter": {
     "outputs_hidden": false
    }
   },
   "outputs": [
    {
     "name": "stdout",
     "output_type": "stream",
     "text": [
      "Mean Accuracy: 99.187%, Standard Deviation: (0.44%)\n"
     ]
    }
   ],
   "source": [
    "\n",
    "kfold = KFold(n_splits=10,shuffle=True,random_state=42)\n",
    "rnd_forest_train =cross_val_score(rnd_forest, x_train, y_train, cv=kfold, scoring='accuracy')\n",
    "pd.DataFrame(rnd_forest_train,columns=['Scores'])\n",
    "print(\"Mean Accuracy: %.3f%%, Standard Deviation: (%.2f%%)\" % (rnd_forest_train.mean()*100.0, rnd_forest_train.std()*100.0))"
   ]
  },
  {
   "cell_type": "code",
   "execution_count": 233,
   "metadata": {
    "_cell_guid": "e5600f7a-2c8d-4c49-8985-09cd92221103",
    "_uuid": "d4e1bcaa-15d3-4e39-8cb4-7a1cf7ec1d3b",
    "collapsed": false,
    "jupyter": {
     "outputs_hidden": false
    }
   },
   "outputs": [
    {
     "name": "stdout",
     "output_type": "stream",
     "text": [
      "Mean Accuracy: 98.575%, Standard Deviation: (1.31%)\n"
     ]
    }
   ],
   "source": [
    "kfold = KFold(n_splits=10,shuffle=True,random_state=42)\n",
    "rnd_forest_test =cross_val_score(rnd_forest, x_test, y_test, cv=kfold, scoring='accuracy')\n",
    "pd.DataFrame(rnd_forest_test,columns=['Scores'])\n",
    "print(\"Mean Accuracy: %.3f%%, Standard Deviation: (%.2f%%)\" % (rnd_forest_test.mean()*100.0, rnd_forest_test.std()*100.0))"
   ]
  },
  {
   "cell_type": "code",
   "execution_count": 234,
   "metadata": {
    "_cell_guid": "61419045-cc8e-40c8-8c88-5d8b996350cf",
    "_uuid": "54c4be9e-befc-42eb-94d6-2fb759cee77c",
    "collapsed": false,
    "jupyter": {
     "outputs_hidden": false
    }
   },
   "outputs": [],
   "source": [
    "discrp = pd.read_csv(\"symptom_Description.csv\")"
   ]
  },
  {
   "cell_type": "code",
   "execution_count": 235,
   "metadata": {
    "_cell_guid": "545b91a9-1693-4853-a367-e3137713e82b",
    "_uuid": "1bc7d645-87fb-4356-a8de-c92e30e54895",
    "collapsed": false,
    "jupyter": {
     "outputs_hidden": false
    }
   },
   "outputs": [
    {
     "data": {
      "text/html": [
       "<div>\n",
       "<style scoped>\n",
       "    .dataframe tbody tr th:only-of-type {\n",
       "        vertical-align: middle;\n",
       "    }\n",
       "\n",
       "    .dataframe tbody tr th {\n",
       "        vertical-align: top;\n",
       "    }\n",
       "\n",
       "    .dataframe thead th {\n",
       "        text-align: right;\n",
       "    }\n",
       "</style>\n",
       "<table border=\"1\" class=\"dataframe\">\n",
       "  <thead>\n",
       "    <tr style=\"text-align: right;\">\n",
       "      <th></th>\n",
       "      <th>Disease</th>\n",
       "      <th>Description</th>\n",
       "    </tr>\n",
       "  </thead>\n",
       "  <tbody>\n",
       "    <tr>\n",
       "      <th>0</th>\n",
       "      <td>Drug Reaction</td>\n",
       "      <td>An adverse drug reaction (ADR) is an injury ca...</td>\n",
       "    </tr>\n",
       "    <tr>\n",
       "      <th>1</th>\n",
       "      <td>Malaria</td>\n",
       "      <td>An infectious disease caused by protozoan para...</td>\n",
       "    </tr>\n",
       "    <tr>\n",
       "      <th>2</th>\n",
       "      <td>Allergy</td>\n",
       "      <td>An allergy is an immune system response to a f...</td>\n",
       "    </tr>\n",
       "    <tr>\n",
       "      <th>3</th>\n",
       "      <td>Hypothyroidism</td>\n",
       "      <td>Hypothyroidism, also called underactive thyroi...</td>\n",
       "    </tr>\n",
       "    <tr>\n",
       "      <th>4</th>\n",
       "      <td>Psoriasis</td>\n",
       "      <td>Psoriasis is a common skin disorder that forms...</td>\n",
       "    </tr>\n",
       "  </tbody>\n",
       "</table>\n",
       "</div>"
      ],
      "text/plain": [
       "          Disease                                        Description\n",
       "0   Drug Reaction  An adverse drug reaction (ADR) is an injury ca...\n",
       "1         Malaria  An infectious disease caused by protozoan para...\n",
       "2         Allergy  An allergy is an immune system response to a f...\n",
       "3  Hypothyroidism  Hypothyroidism, also called underactive thyroi...\n",
       "4       Psoriasis  Psoriasis is a common skin disorder that forms..."
      ]
     },
     "execution_count": 235,
     "metadata": {},
     "output_type": "execute_result"
    }
   ],
   "source": [
    "discrp.head()"
   ]
  },
  {
   "cell_type": "code",
   "execution_count": 236,
   "metadata": {
    "_cell_guid": "f24fad20-368d-4f93-9dc4-a4f84012a926",
    "_uuid": "e6e8db22-b8a4-4c00-bcb3-1cc6c1684c4b",
    "collapsed": false,
    "jupyter": {
     "outputs_hidden": false
    }
   },
   "outputs": [],
   "source": [
    "ektra7at = pd.read_csv(\"symptom_precaution.csv\")"
   ]
  },
  {
   "cell_type": "code",
   "execution_count": 237,
   "metadata": {
    "_cell_guid": "7b8a4127-1444-444c-8667-d98fd3f73308",
    "_uuid": "9927446e-9fb7-46b7-bd04-eaf2fd84d808",
    "collapsed": false,
    "jupyter": {
     "outputs_hidden": false
    }
   },
   "outputs": [
    {
     "data": {
      "text/html": [
       "<div>\n",
       "<style scoped>\n",
       "    .dataframe tbody tr th:only-of-type {\n",
       "        vertical-align: middle;\n",
       "    }\n",
       "\n",
       "    .dataframe tbody tr th {\n",
       "        vertical-align: top;\n",
       "    }\n",
       "\n",
       "    .dataframe thead th {\n",
       "        text-align: right;\n",
       "    }\n",
       "</style>\n",
       "<table border=\"1\" class=\"dataframe\">\n",
       "  <thead>\n",
       "    <tr style=\"text-align: right;\">\n",
       "      <th></th>\n",
       "      <th>Disease</th>\n",
       "      <th>Precaution_1</th>\n",
       "      <th>Precaution_2</th>\n",
       "      <th>Precaution_3</th>\n",
       "      <th>Precaution_4</th>\n",
       "    </tr>\n",
       "  </thead>\n",
       "  <tbody>\n",
       "    <tr>\n",
       "      <th>0</th>\n",
       "      <td>Drug Reaction</td>\n",
       "      <td>stop irritation</td>\n",
       "      <td>consult nearest hospital</td>\n",
       "      <td>stop taking drug</td>\n",
       "      <td>follow up</td>\n",
       "    </tr>\n",
       "    <tr>\n",
       "      <th>1</th>\n",
       "      <td>Malaria</td>\n",
       "      <td>Consult nearest hospital</td>\n",
       "      <td>avoid oily food</td>\n",
       "      <td>avoid non veg food</td>\n",
       "      <td>keep mosquitos out</td>\n",
       "    </tr>\n",
       "    <tr>\n",
       "      <th>2</th>\n",
       "      <td>Allergy</td>\n",
       "      <td>apply calamine</td>\n",
       "      <td>cover area with bandage</td>\n",
       "      <td>NaN</td>\n",
       "      <td>use ice to compress itching</td>\n",
       "    </tr>\n",
       "    <tr>\n",
       "      <th>3</th>\n",
       "      <td>Hypothyroidism</td>\n",
       "      <td>reduce stress</td>\n",
       "      <td>exercise</td>\n",
       "      <td>eat healthy</td>\n",
       "      <td>get proper sleep</td>\n",
       "    </tr>\n",
       "    <tr>\n",
       "      <th>4</th>\n",
       "      <td>Psoriasis</td>\n",
       "      <td>wash hands with warm soapy water</td>\n",
       "      <td>stop bleeding using pressure</td>\n",
       "      <td>consult doctor</td>\n",
       "      <td>salt baths</td>\n",
       "    </tr>\n",
       "  </tbody>\n",
       "</table>\n",
       "</div>"
      ],
      "text/plain": [
       "          Disease                      Precaution_1  \\\n",
       "0   Drug Reaction                   stop irritation   \n",
       "1         Malaria          Consult nearest hospital   \n",
       "2         Allergy                    apply calamine   \n",
       "3  Hypothyroidism                     reduce stress   \n",
       "4       Psoriasis  wash hands with warm soapy water   \n",
       "\n",
       "                   Precaution_2        Precaution_3  \\\n",
       "0      consult nearest hospital    stop taking drug   \n",
       "1               avoid oily food  avoid non veg food   \n",
       "2       cover area with bandage                 NaN   \n",
       "3                      exercise         eat healthy   \n",
       "4  stop bleeding using pressure      consult doctor   \n",
       "\n",
       "                  Precaution_4  \n",
       "0                    follow up  \n",
       "1           keep mosquitos out  \n",
       "2  use ice to compress itching  \n",
       "3             get proper sleep  \n",
       "4                   salt baths  "
      ]
     },
     "execution_count": 237,
     "metadata": {},
     "output_type": "execute_result"
    }
   ],
   "source": [
    "ektra7at.head()"
   ]
  },
  {
   "cell_type": "markdown",
   "metadata": {
    "_cell_guid": "b330842d-c161-47a4-bd14-f47f88acac08",
    "_uuid": "e83f6bd5-f387-417f-b4df-47c39fc5a178"
   },
   "source": [
    "**Save Random Forest model**"
   ]
  },
  {
   "cell_type": "markdown",
   "metadata": {
    "_cell_guid": "373dfe35-5c91-48c0-80ea-a2d1ae113e4c",
    "_uuid": "189ddab0-93bb-4682-8e24-578ab2b85930"
   },
   "source": [
    "**Load Model**"
   ]
  },
  {
   "cell_type": "code",
   "execution_count": 238,
   "metadata": {
    "_cell_guid": "460e6559-3ae6-4799-b2ed-f1e4e48f9845",
    "_uuid": "bf5eceec-92cc-4661-84ed-909d840b4e6c",
    "collapsed": false,
    "jupyter": {
     "outputs_hidden": false
    }
   },
   "outputs": [],
   "source": [
    "# load, no need to initialize the loaded_rf\n",
    "#loaded_rf = joblib.load(\"random_forest.joblib\")"
   ]
  },
  {
   "cell_type": "code",
   "execution_count": 239,
   "metadata": {
    "_cell_guid": "86411b8b-e2db-4aa1-aec0-54b5c01a7164",
    "_uuid": "ecd6419c-ca99-4a9b-8b41-aba85f917eba",
    "collapsed": false,
    "jupyter": {
     "outputs_hidden": false
    }
   },
   "outputs": [],
   "source": [
    "def predd(x, s1=0.0, s2=0.0, s3=0.0, s4=0.0, s5=0.0, s6=0.0, s7=0.0, s8=0.0, s9=0.0, s10=0.0,\n",
    "          s11=0.0, s12=0.0, s13=0.0, s14=0.0, s15=0.0, s16=0.0, s17=0.0):\n",
    "    psymptoms = [s1, s2, s3, s4, s5, s6, s7, s8, s9, s10, s11, s12, s13, s14, s15, s16, s17]\n",
    "\n",
    "    # Update psymptoms with weights from the dataframe\n",
    "    a = np.array(df1[\"Symptom\"])\n",
    "    b = np.array(df1[\"weight\"])\n",
    "    for j in range(len(psymptoms)):\n",
    "        for k in range(len(a)):\n",
    "            if psymptoms[j] == a[k]:\n",
    "                psymptoms[j] = b[k]\n",
    "\n",
    "    # Predict disease using the provided RandomForestClassifier instance\n",
    "    psy = [psymptoms]\n",
    "    pred2 = x.predict(psy)\n",
    "\n",
    "    # Get top 3 probabilities\n",
    "    probas = x.predict_proba(psy)[0]\n",
    "    top_indices = probas.argsort()[::-1][:3]\n",
    "    top_diseases = x.classes_[top_indices]\n",
    "    top_probas = probas[top_indices]\n",
    "\n",
    "    # Print top 3 predicted diseases with descriptions and precaution lists\n",
    "    for disease, proba in zip(top_diseases, top_probas):\n",
    "        disp = discrp[discrp['Disease'] == disease].values[0][1]\n",
    "        recomnd = ektra7at[ektra7at['Disease'] == disease]\n",
    "        c = np.where(ektra7at['Disease'] == disease)[0][0]\n",
    "        precuation_list = list(ektra7at.iloc[c, 1:])\n",
    "\n",
    "        print(\"Disease Name:\", disease)\n",
    "        print(\"Probability: {:.2f}%\".format(proba * 100))\n",
    "        print(\"Description:\", disp)\n",
    "        print(\"Recommended Things to do at home:\")\n",
    "        for i in precuation_list:\n",
    "            print(\"-\", i)\n",
    "        print()  # Add an empty line for better readability\n"
   ]
  },
  {
   "cell_type": "code",
   "execution_count": null,
   "metadata": {
    "_cell_guid": "2143c8d3-dc55-48ce-90b2-e0de4980e7ee",
    "_uuid": "ab6f91a4-ae17-4c3e-959d-7ad4cba854fa",
    "collapsed": false,
    "jupyter": {
     "outputs_hidden": false
    }
   },
   "outputs": [],
   "source": []
  },
  {
   "cell_type": "markdown",
   "metadata": {
    "_cell_guid": "7717f738-4f1c-4128-809f-f781c37c2a8b",
    "_uuid": "23b095ae-c494-4fa2-aac6-49f5d89f6f3d"
   },
   "source": [
    "# Comparison between algorithms testing and training"
   ]
  },
  {
   "cell_type": "code",
   "execution_count": 240,
   "metadata": {
    "_cell_guid": "0be53a08-6835-4653-8540-5661f4f03160",
    "_uuid": "eb223f60-ec21-4430-81b5-ba1078b4317f",
    "collapsed": false,
    "jupyter": {
     "outputs_hidden": false
    }
   },
   "outputs": [],
   "source": [
    "n_groups = 2\n",
    "algorithms = ('Decision Tree', 'Random Forest')\n",
    "train_accuracy = (DS_train.mean()*100.0,\n",
    "                 rnd_forest_train.mean()*100.0,)"
   ]
  },
  {
   "cell_type": "code",
   "execution_count": 241,
   "metadata": {
    "_cell_guid": "e19bac66-130a-4381-a93d-6d571d054230",
    "_uuid": "6ff6e50e-c79e-45d2-ad71-a96a2e6fa12c",
    "collapsed": false,
    "jupyter": {
     "outputs_hidden": false
    }
   },
   "outputs": [],
   "source": [
    "test_accuracy = (DS_test.mean()*100.0,\n",
    "                 rnd_forest_test.mean()*100.0)"
   ]
  },
  {
   "cell_type": "code",
   "execution_count": 242,
   "metadata": {
    "_cell_guid": "e98f3945-4dd1-4d10-8fbb-83b24a389ab0",
    "_uuid": "4a74952f-39ba-4400-a06a-a2e3452e20c3",
    "collapsed": false,
    "jupyter": {
     "outputs_hidden": false
    }
   },
   "outputs": [],
   "source": [
    "Standard_Deviation=(DS_test.std()*100.0,     \n",
    "                 rnd_forest_test.std()*100.0)"
   ]
  },
  {
   "cell_type": "code",
   "execution_count": 243,
   "metadata": {
    "_cell_guid": "0fc8784f-61b9-4c0e-abfb-b670954358a9",
    "_uuid": "0b3df1e1-37b1-4c10-b371-f845a6bb1c68",
    "collapsed": false,
    "jupyter": {
     "outputs_hidden": false
    }
   },
   "outputs": [
    {
     "data": {
      "image/png": "[encoded data removed]",
      "text/plain": [
       "<Figure size 1500x1000 with 1 Axes>"
      ]
     },
     "metadata": {},
     "output_type": "display_data"
    }
   ],
   "source": [
    "# create plot\n",
    "fig, ax = plt.subplots(figsize=(15, 10))\n",
    "index = np.arange(n_groups)\n",
    "bar_width = 0.3\n",
    "opacity = 1\n",
    "rects1 = plt.bar(index, train_accuracy, bar_width, alpha = opacity, color='Cornflowerblue', label='Train')\n",
    "rects2 = plt.bar(index + bar_width, test_accuracy, bar_width, alpha = opacity, color='Teal', label='Test')\n",
    "rects3 = plt.bar(index + bar_width, Standard_Deviation, bar_width, alpha = opacity, color='red', label='Standard Deviation')\n",
    "plt.xlabel('Algorithm') # x axis label\n",
    "plt.ylabel('Accuracy (%)') # y axis label\n",
    "plt.ylim(0, 115)\n",
    "plt.title('Comparison of Algorithm Accuracies') # plot title\n",
    "plt.xticks(index + bar_width * 0.5, algorithms) # x axis data labels\n",
    "plt.legend(loc = 'upper right') # show legend\n",
    "for index, data in enumerate(train_accuracy):\n",
    "    plt.text(x = index - 0.035, y = data + 1, s = round(data, 2), fontdict = dict(fontsize = 8))\n",
    "for index, data in enumerate(test_accuracy):\n",
    "    plt.text(x = index + 0.25, y = data + 1, s = round(data, 2), fontdict = dict(fontsize = 8))\n",
    "for index, data in enumerate(Standard_Deviation):\n",
    "    plt.text(x = index + 0.25, y = data + 1, s = round(data, 2), fontdict = dict(fontsize = 8))"
   ]
  },
  {
   "cell_type": "markdown",
   "metadata": {
    "_cell_guid": "6a625d4b-687e-4c3c-8622-9515ec5e5f0a",
    "_uuid": "41179faa-8b0e-4edf-8b4c-406149c3ebc6"
   },
   "source": [
    "**Test it Like The user would do**"
   ]
  },
  {
   "cell_type": "code",
   "execution_count": 244,
   "metadata": {
    "_cell_guid": "b1f012be-7f47-4bbb-9b8b-d666c2288832",
    "_uuid": "14175d0b-987f-40e0-92be-4160621ca228",
    "collapsed": false,
    "jupyter": {
     "outputs_hidden": false
    }
   },
   "outputs": [
    {
     "name": "stdout",
     "output_type": "stream",
     "text": [
      "Disease Name: Paralysis (brain hemorrhage)\n",
      "Probability: 80.25%\n",
      "Description: Intracerebral hemorrhage (ICH) is when blood suddenly bursts into brain tissue, causing damage to your brain. Symptoms usually appear suddenly during ICH. They include headache, weakness, confusion, and paralysis, particularly on one side of your body.\n",
      "Recommended Things to do at home:\n",
      "- massage\n",
      "- eat healthy\n",
      "- exercise\n",
      "- consult doctor\n",
      "\n",
      "Disease Name: Gastroenteritis\n",
      "Probability: 7.97%\n",
      "Description: Gastroenteritis is an inflammation of the digestive tract, particularly the stomach, and large and small intestines. Viral and bacterial gastroenteritis are intestinal infections associated with symptoms of diarrhea , abdominal cramps, nausea , and vomiting .\n",
      "Recommended Things to do at home:\n",
      "- stop eating solid food for while\n",
      "- try taking small sips of water\n",
      "- rest\n",
      "- ease back into eating\n",
      "\n",
      "Disease Name: Allergy\n",
      "Probability: 5.43%\n",
      "Description: An allergy is an immune system response to a foreign substance that's not typically harmful to your body.They can include certain foods, pollen, or pet dander. Your immune system's job is to keep you healthy by fighting harmful pathogens.\n",
      "Recommended Things to do at home:\n",
      "- apply calamine\n",
      "- cover area with bandage\n",
      "- nan\n",
      "- use ice to compress itching\n",
      "\n"
     ]
    }
   ],
   "source": [
    "sympList=df1[\"Symptom\"].to_list()\n",
    "predd(rnd_forest,sympList[7],sympList[5],sympList[2],sympList[80],0,0,0,0,0,0,0,0,0,0,0,0,0)"
   ]
  },
  {
   "cell_type": "code",
   "execution_count": 245,
   "metadata": {},
   "outputs": [
    {
     "data": {
      "text/plain": [
       "\"symptoms = ['itching', 'skin_rash', 'nodal_skin_eruptions',\\n       'continuous_sneezing', 'shivering', 'chills', 'joint_pain',\\n       'stomach_pain', 'acidity', 'ulcers_on_tongue', 'muscle_wasting',\\n       'vomiting', 'burning_micturition', 'spotting_urination', 'fatigue',\\n       'weight_gain', 'anxiety', 'cold_hands_and_feets', 'mood_swings',\\n       'weight_loss', 'restlessness', 'lethargy', 'patches_in_throat',\\n       'irregular_sugar_level', 'cough', 'high_fever', 'sunken_eyes',\\n       'breathlessness', 'sweating', 'dehydration', 'indigestion',\\n       'headache', 'yellowish_skin', 'dark_urine', 'nausea',\\n       'loss_of_appetite', 'pain_behind_the_eyes', 'back_pain',\\n       'constipation', 'abdominal_pain', 'diarrhoea', 'mild_fever',\\n       'yellow_urine', 'yellowing_of_eyes', 'acute_liver_failure',\\n       'fluid_overload', 'swelling_of_stomach', 'swelled_lymph_nodes',\\n       'malaise', 'blurred_and_distorted_vision', 'phlegm',\\n       'throat_irritation', 'redness_of_eyes', 'sinus_pressure',\\n       'runny_nose', 'congestion', 'chest_pain', 'weakness_in_limbs',\\n       'fast_heart_rate', 'pain_during_bowel_movements',\\n       'pain_in_anal_region', 'bloody_stool', 'irritation_in_anus',\\n       'neck_pain', 'dizziness', 'cramps', 'bruising', 'obesity',\\n       'swollen_legs', 'swollen_blood_vessels', 'puffy_face_and_eyes',\\n       'enlarged_thyroid', 'brittle_nails', 'swollen_extremeties',\\n       'excessive_hunger', 'extra_marital_contacts',\\n       'drying_and_tingling_lips', 'slurred_speech', 'knee_pain',\\n       'hip_joint_pain', 'muscle_weakness', 'stiff_neck',\\n       'swelling_joints', 'movement_stiffness', 'spinning_movements',\\n       'loss_of_balance', 'unsteadiness', 'weakness_of_one_body_side',\\n       'loss_of_smell', 'bladder_discomfort', 'foul_smell_ofurine',\\n       'continuous_feel_of_urine', 'passage_of_gases', 'internal_itching',\\n       'toxic_look_(typhos)', 'depression', 'irritability', 'muscle_pain',\\n       'altered_sensorium', 'red_spots_over_body', 'belly_pain',\\n       'abnormal_menstruation', 'dischromic_patches',\\n       'watering_from_eyes', 'increased_appetite', 'polyuria',\\n       'family_history', 'mucoid_sputum', 'rusty_sputum',\\n       'lack_of_concentration', 'visual_disturbances',\\n       'receiving_blood_transfusion', 'receiving_unsterile_injections',\\n       'coma', 'stomach_bleeding', 'distention_of_abdomen',\\n       'history_of_alcohol_consumption', 'blood_in_sputum',\\n       'prominent_veins_on_calf', 'palpitations', 'painful_walking',\\n       'pus_filled_pimples', 'blackheads', 'scurring', 'skin_peeling',\\n       'silver_like_dusting', 'small_dents_in_nails',\\n       'inflammatory_nails', 'blister', 'red_sore_around_nose',\\n       'yellow_crust_ooze', 'prognosis']\""
      ]
     },
     "execution_count": 245,
     "metadata": {},
     "output_type": "execute_result"
    }
   ],
   "source": [
    "symptoms = ['itching', 'skin_rash', 'nodal_skin_eruptions',\n",
    "       'continuous_sneezing', 'shivering', 'chills', 'joint_pain',\n",
    "       'stomach_pain', 'acidity', 'ulcers_on_tongue', 'muscle_wasting',\n",
    "       'vomiting', 'burning_micturition', 'spotting_urination', 'fatigue',\n",
    "       'weight_gain', 'anxiety', 'cold_hands_and_feets', 'mood_swings',\n",
    "       'weight_loss', 'restlessness', 'lethargy', 'patches_in_throat',\n",
    "       'irregular_sugar_level', 'cough', 'high_fever', 'sunken_eyes',\n",
    "       'breathlessness', 'sweating', 'dehydration', 'indigestion',\n",
    "       'headache', 'yellowish_skin', 'dark_urine', 'nausea',\n",
    "       'loss_of_appetite', 'pain_behind_the_eyes', 'back_pain',\n",
    "       'constipation', 'abdominal_pain', 'diarrhoea', 'mild_fever',\n",
    "       'yellow_urine', 'yellowing_of_eyes', 'acute_liver_failure',\n",
    "       'fluid_overload', 'swelling_of_stomach', 'swelled_lymph_nodes',\n",
    "       'malaise', 'blurred_and_distorted_vision', 'phlegm',\n",
    "       'throat_irritation', 'redness_of_eyes', 'sinus_pressure',\n",
    "       'runny_nose', 'congestion', 'chest_pain', 'weakness_in_limbs',\n",
    "       'fast_heart_rate', 'pain_during_bowel_movements',\n",
    "       'pain_in_anal_region', 'bloody_stool', 'irritation_in_anus',\n",
    "       'neck_pain', 'dizziness', 'cramps', 'bruising', 'obesity',\n",
    "       'swollen_legs', 'swollen_blood_vessels', 'puffy_face_and_eyes',\n",
    "       'enlarged_thyroid', 'brittle_nails', 'swollen_extremeties',\n",
    "       'excessive_hunger', 'extra_marital_contacts',\n",
    "       'drying_and_tingling_lips', 'slurred_speech', 'knee_pain',\n",
    "       'hip_joint_pain', 'muscle_weakness', 'stiff_neck',\n",
    "       'swelling_joints', 'movement_stiffness', 'spinning_movements',\n",
    "       'loss_of_balance', 'unsteadiness', 'weakness_of_one_body_side',\n",
    "       'loss_of_smell', 'bladder_discomfort', 'foul_smell_ofurine',\n",
    "       'continuous_feel_of_urine', 'passage_of_gases', 'internal_itching',\n",
    "       'toxic_look_(typhos)', 'depression', 'irritability', 'muscle_pain',\n",
    "       'altered_sensorium', 'red_spots_over_body', 'belly_pain',\n",
    "       'abnormal_menstruation', 'dischromic_patches',\n",
    "       'watering_from_eyes', 'increased_appetite', 'polyuria',\n",
    "       'family_history', 'mucoid_sputum', 'rusty_sputum',\n",
    "       'lack_of_concentration', 'visual_disturbances',\n",
    "       'receiving_blood_transfusion', 'receiving_unsterile_injections',\n",
    "       'coma', 'stomach_bleeding', 'distention_of_abdomen',\n",
    "       'history_of_alcohol_consumption', 'blood_in_sputum',\n",
    "       'prominent_veins_on_calf', 'palpitations', 'painful_walking',\n",
    "       'pus_filled_pimples', 'blackheads', 'scurring', 'skin_peeling',\n",
    "       'silver_like_dusting', 'small_dents_in_nails',\n",
    "       'inflammatory_nails', 'blister', 'red_sore_around_nose',\n",
    "       'yellow_crust_ooze', 'prognosis']"
   ]
  },
  {
   "cell_type": "code",
   "execution_count": null,
   "metadata": {},
   "outputs": [
    {
     "name": "stdout",
     "output_type": "stream",
     "text": [
      "Welcome to the Disease Predictor Chatbot!\n",
      "You can describe your symptoms, and I'll try to predict the possible disease.\n",
      "Type 'exit' to end the conversation.\n"
     ]
    },
    {
     "name": "stdin",
     "output_type": "stream",
     "text": [
      "You:  Hi I have fatigue and nausea\n"
     ]
    },
    {
     "name": "stdout",
     "output_type": "stream",
     "text": [
      "Identified Symptoms: ['fatigue', 'nausea']\n",
      "Disease Name: Allergy\n",
      "Probability: 50.97%\n",
      "Description: An allergy is an immune system response to a foreign substance that's not typically harmful to your body.They can include certain foods, pollen, or pet dander. Your immune system's job is to keep you healthy by fighting harmful pathogens.\n",
      "Recommended Things to do at home:\n",
      "- apply calamine\n",
      "- cover area with bandage\n",
      "- nan\n",
      "- use ice to compress itching\n",
      "\n",
      "Disease Name: Fungal infection\n",
      "Probability: 32.59%\n",
      "Description: In humans, fungal infections occur when an invading fungus takes over an area of the body and is too much for the immune system to handle. Fungi can live in the air, soil, water, and plants. There are also some fungi that live naturally in the human body. Like many microbes, there are helpful fungi and harmful fungi.\n",
      "Recommended Things to do at home:\n",
      "- bath twice\n",
      "- use detol or neem in bathing water\n",
      "- keep infected area dry\n",
      "- use clean cloths\n",
      "\n",
      "Disease Name: Urinary tract infection\n",
      "Probability: 9.23%\n",
      "Description: Urinary tract infection: An infection of the kidney, ureter, bladder, or urethra. Abbreviated UTI. Not everyone with a UTI has symptoms, but common symptoms include a frequent urge to urinate and pain or burning when urinating.\n",
      "Recommended Things to do at home:\n",
      "- drink plenty of water\n",
      "- increase vitamin c intake\n",
      "- drink cranberry juice\n",
      "- take probiotics\n",
      "\n",
      "Chatbot: Based on your symptoms, it's possible that you have:  None\n"
     ]
    }
   ],
   "source": [
    "def preprocess_input(input_text):\n",
    "    tokens = input_text.lower().split()\n",
    "    return tokens\n",
    "\n",
    "def identify_symptoms(tokens):\n",
    "    # Initialize a list to store identified symptoms\n",
    "    identified_symptoms = []\n",
    "    # Check each token against the list of symptoms\n",
    "    for token in tokens:\n",
    "        # Use a regular expression to check for partial matches\n",
    "        if any(re.search(r'\\b{}\\b'.format(symptom), token) for symptom in symptoms):\n",
    "            identified_symptoms.append(token)\n",
    "    return identified_symptoms\n",
    "\n",
    "def predict_disease(identified_symptoms):\n",
    "    print(\"Identified Symptoms:\", identified_symptoms)\n",
    "    prediction = predd(rnd_forest, *identified_symptoms)\n",
    "\n",
    "# Example usage\n",
    "def chatbot():\n",
    "    print(\"Welcome to the Disease Predictor Chatbot!\")\n",
    "    print(\"You can describe your symptoms, and I'll try to predict the possible disease.\")\n",
    "    print(\"Type 'exit' to end the conversation.\")\n",
    "\n",
    "    while True:\n",
    "        user_input = input(\"You: \").strip()\n",
    "        if user_input.lower() == 'exit':\n",
    "            print(\"Chatbot: Goodbye!\")\n",
    "            break\n",
    "        else:\n",
    "            tokens = preprocess_input(user_input)\n",
    "            identified_symptoms = identify_symptoms(tokens)\n",
    "            if identified_symptoms:\n",
    "                predicted_disease = predict_disease(identified_symptoms)\n",
    "                print(\"Chatbot: Based on your symptoms, it's possible that you have: \", predicted_disease)\n",
    "            else:\n",
    "                print(\"Chatbot: No symptoms identified. I am still a bot that is being trained and tested so exit\")\n",
    "\n",
    "# Start the chatbot\n",
    "chatbot()"
   ]
  },
  {
   "cell_type": "code",
   "execution_count": null,
   "metadata": {},
   "outputs": [],
   "source": []
  }
 ],
 "metadata": {
  "kaggle": {
   "accelerator": "none",
   "dataSources": [
    {
     "datasetId": 672162,
     "sourceId": 1182853,
     "sourceType": "datasetVersion"
    }
   ],
   "dockerImageVersionId": 30301,
   "isGpuEnabled": false,
   "isInternetEnabled": true,
   "language": "python",
   "sourceType": "notebook"
  },
  "kernelspec": {
   "display_name": "tensorflow-2.13.0",
   "language": "python",
   "name": "tensorflow-2.13.0"
  },
  "language_info": {
   "codemirror_mode": {
    "name": "ipython",
    "version": 3
   },
   "file_extension": ".py",
   "mimetype": "text/x-python",
   "name": "python",
   "nbconvert_exporter": "python",
   "pygments_lexer": "ipython3",
   "version": "3.9.16"
  }
 },
 "nbformat": 4,
 "nbformat_minor": 4
}
