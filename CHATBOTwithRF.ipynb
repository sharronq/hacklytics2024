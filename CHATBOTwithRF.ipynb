{
 "cells": [
  {
   "cell_type": "code",
   "execution_count": 1,
   "metadata": {
    "_cell_guid": "29d803ef-727b-40de-97bb-09c762a94335",
    "_uuid": "7e8f0ab3-c665-47d0-aa74-4d63d9b4d40a",
    "collapsed": false,
    "jupyter": {
     "outputs_hidden": false
    }
   },
   "outputs": [
    {
     "name": "stdout",
     "output_type": "stream",
     "text": [
      "Defaulting to user installation because normal site-packages is not writeable\n",
      "Requirement already satisfied: joblib in /opt/intel/oneapi/intelpython/python3.9/lib/python3.9/site-packages (1.2.0)\n",
      "Collecting package metadata (current_repodata.json): done\n",
      "Solving environment: done\n",
      "\n",
      "## Package Plan ##\n",
      "\n",
      "  environment location: /opt/intel/oneapi/intelpython/latest\n",
      "\n",
      "  added / updated specs:\n",
      "    - joblib\n",
      "\n",
      "\n",
      "The following packages will be SUPERSEDED by a higher-priority channel:\n",
      "\n",
      "  ca-certificates    anaconda::ca-certificates-2023.08.22-~ --> conda_channel::ca-certificates-2023.5.7-hbcca054_0 \n",
      "  certifi            anaconda/linux-64::certifi-2023.7.22-~ --> conda_channel/noarch::certifi-2023.5.7-pyhd8ed1ab_0 \n",
      "\n",
      "\n",
      "\n",
      "Downloading and Extracting Packages\n",
      "\n",
      "Preparing transaction: done\n",
      "Verifying transaction: failed\n",
      "\n",
      "EnvironmentNotWritableError: The current user does not have write permissions to the target environment.\n",
      "  environment location: /opt/intel/oneapi/intelpython/latest\n",
      "  uid: 17789\n",
      "  gid: 100\n",
      "\n",
      "\n"
     ]
    }
   ],
   "source": [
    "!pip install joblib\n",
    "!conda install --yes joblib"
   ]
  },
  {
   "cell_type": "code",
   "execution_count": 2,
   "metadata": {
    "_cell_guid": "29d803ef-727b-40de-97bb-09c762a94335",
    "_uuid": "7e8f0ab3-c665-47d0-aa74-4d63d9b4d40a",
    "collapsed": false,
    "jupyter": {
     "outputs_hidden": false
    }
   },
   "outputs": [],
   "source": [
    "import joblib"
   ]
  },
  {
   "cell_type": "code",
   "execution_count": 3,
   "metadata": {
    "_cell_guid": "29d803ef-727b-40de-97bb-09c762a94335",
    "_uuid": "7e8f0ab3-c665-47d0-aa74-4d63d9b4d40a",
    "collapsed": false,
    "jupyter": {
     "outputs_hidden": false
    }
   },
   "outputs": [
    {
     "name": "stdout",
     "output_type": "stream",
     "text": [
      "Defaulting to user installation because normal site-packages is not writeable\n",
      "Requirement already satisfied: scikit-learn in /home/u29c32ef6543862cef7ca70b338029c5/.local/lib/python3.9/site-packages (1.4.0)\n",
      "Requirement already satisfied: numpy<2.0,>=1.19.5 in /opt/intel/oneapi/intelpython/python3.9/lib/python3.9/site-packages (from scikit-learn) (1.24.3)\n",
      "Requirement already satisfied: scipy>=1.6.0 in /opt/intel/oneapi/intelpython/python3.9/lib/python3.9/site-packages (from scikit-learn) (1.10.1)\n",
      "Requirement already satisfied: joblib>=1.2.0 in /opt/intel/oneapi/intelpython/python3.9/lib/python3.9/site-packages (from scikit-learn) (1.2.0)\n",
      "Requirement already satisfied: threadpoolctl>=2.0.0 in /opt/intel/oneapi/intelpython/python3.9/lib/python3.9/site-packages (from scikit-learn) (3.1.0)\n"
     ]
    }
   ],
   "source": [
    "!pip install --upgrade scikit-learn"
   ]
  },
  {
   "cell_type": "code",
   "execution_count": 4,
   "metadata": {
    "_cell_guid": "769d7dfe-4275-42c0-b13a-b2e1a51323d3",
    "_uuid": "04ba2606-383c-47c1-8b3a-c2fec9ab7f90",
    "collapsed": false,
    "jupyter": {
     "outputs_hidden": false
    },
    "papermill": {
     "duration": 1.394335,
     "end_time": "2021-08-30T15:05:17.551091",
     "exception": false,
     "start_time": "2021-08-30T15:05:16.156756",
     "status": "completed"
    },
    "tags": []
   },
   "outputs": [],
   "source": [
    "import pandas as pd\n",
    "import numpy as np\n",
    "import re\n",
    "import matplotlib.pyplot as plt\n",
    "from sklearn.model_selection import train_test_split,KFold,cross_val_score,GridSearchCV\n",
    "from sklearn.svm import SVC\n",
    "from sklearn.metrics import f1_score, accuracy_score, confusion_matrix, classification_report, precision_score, roc_curve\n",
    "\n",
    "\n",
    "import seaborn as sns\n",
    "from sklearn.utils import shuffle\n",
    "\n",
    "from sklearn.linear_model import LogisticRegression, Perceptron, RidgeClassifier, SGDClassifier\n",
    "from sklearn.ensemble import RandomForestClassifier, GradientBoostingClassifier, ExtraTreesClassifier \n",
    "from sklearn.ensemble import BaggingClassifier, AdaBoostClassifier, VotingClassifier \n",
    "from sklearn.neighbors import KNeighborsClassifier\n",
    "from sklearn.naive_bayes import GaussianNB\n",
    "from sklearn.tree import DecisionTreeClassifier\n",
    "from sklearn import metrics"
   ]
  },
  {
   "cell_type": "markdown",
   "metadata": {
    "_cell_guid": "e1480d23-615f-449d-899c-980c4745d98a",
    "_uuid": "e4080fe0-1a9b-474a-a75c-7edf10baded4",
    "papermill": {
     "duration": 0.024723,
     "end_time": "2021-08-30T15:05:17.748249",
     "exception": false,
     "start_time": "2021-08-30T15:05:17.723526",
     "status": "completed"
    },
    "tags": []
   },
   "source": [
    "**Read and shuffle the dataset**"
   ]
  },
  {
   "cell_type": "code",
   "execution_count": 5,
   "metadata": {
    "_cell_guid": "004332d9-692e-421f-91cc-5d0335a40ac9",
    "_uuid": "0b07b2a3-a895-48e5-9bc2-05c749e1a761",
    "collapsed": false,
    "jupyter": {
     "outputs_hidden": false
    },
    "papermill": {
     "duration": 0.098404,
     "end_time": "2021-08-30T15:05:17.923833",
     "exception": false,
     "start_time": "2021-08-30T15:05:17.825429",
     "status": "completed"
    },
    "tags": []
   },
   "outputs": [],
   "source": [
    "df = pd.read_csv('dataset.csv')\n",
    "df = shuffle(df,random_state=42)"
   ]
  },
  {
   "cell_type": "markdown",
   "metadata": {
    "_cell_guid": "47319647-a30b-4685-9ff6-4f55c37e34ea",
    "_uuid": "5af2a859-25dc-44d9-b69c-3641957ace0c"
   },
   "source": [
    "**Removing Hyphen from strings**"
   ]
  },
  {
   "cell_type": "code",
   "execution_count": 6,
   "metadata": {
    "_cell_guid": "9ce44588-29e9-4649-9b29-9f24abbcaad4",
    "_uuid": "119a2f4f-eb9c-4d73-8d45-6d2004a45323",
    "collapsed": false,
    "jupyter": {
     "outputs_hidden": false
    }
   },
   "outputs": [],
   "source": [
    "for col in df.columns:\n",
    "    df[col] = df[col].str.replace('_',' ')"
   ]
  },
  {
   "cell_type": "markdown",
   "metadata": {
    "_cell_guid": "898e2022-4963-4147-a4dd-673bc6ba00a7",
    "_uuid": "77184a5d-7b3a-490c-bc17-4cce50f2a0d9",
    "papermill": {
     "duration": 0.026579,
     "end_time": "2021-08-30T15:05:18.393419",
     "exception": false,
     "start_time": "2021-08-30T15:05:18.36684",
     "status": "completed"
    },
    "tags": []
   },
   "source": [
    "**Remove the trailing space from the symptom columns**"
   ]
  },
  {
   "cell_type": "code",
   "execution_count": 7,
   "metadata": {
    "_cell_guid": "ed5970ec-69a3-410c-8327-f0ca6697facf",
    "_uuid": "5b215ab2-e0a9-486a-bcc5-e25add893722",
    "collapsed": false,
    "jupyter": {
     "outputs_hidden": false
    },
    "papermill": {
     "duration": 0.097172,
     "end_time": "2021-08-30T15:05:18.517252",
     "exception": false,
     "start_time": "2021-08-30T15:05:18.42008",
     "status": "completed"
    },
    "tags": []
   },
   "outputs": [],
   "source": [
    "cols = df.columns\n",
    "data = df[cols].values.flatten()\n",
    "\n",
    "s = pd.Series(data)\n",
    "s = s.str.strip()\n",
    "s = s.values.reshape(df.shape)\n",
    "\n",
    "df = pd.DataFrame(s, columns=df.columns)\n"
   ]
  },
  {
   "cell_type": "markdown",
   "metadata": {
    "_cell_guid": "c0904d9c-c75f-4aa6-b68a-870657ee7159",
    "_uuid": "70f88710-e15c-4741-8dc7-7eab588d3009",
    "papermill": {
     "duration": 0.027747,
     "end_time": "2021-08-30T15:05:18.57314",
     "exception": false,
     "start_time": "2021-08-30T15:05:18.545393",
     "status": "completed"
    },
    "tags": []
   },
   "source": [
    "**Fill the NaN values with zero**"
   ]
  },
  {
   "cell_type": "code",
   "execution_count": 8,
   "metadata": {
    "_cell_guid": "a0808f69-e215-43de-a320-c3634185edf1",
    "_uuid": "6088daf3-98bb-499d-ba1c-bd572e744676",
    "collapsed": false,
    "jupyter": {
     "outputs_hidden": false
    },
    "papermill": {
     "duration": 0.066576,
     "end_time": "2021-08-30T15:05:18.667519",
     "exception": false,
     "start_time": "2021-08-30T15:05:18.600943",
     "status": "completed"
    },
    "tags": []
   },
   "outputs": [],
   "source": [
    "df = df.fillna(0)"
   ]
  },
  {
   "cell_type": "markdown",
   "metadata": {
    "_cell_guid": "f54aa1bc-3a83-4c82-80df-1522dba1993f",
    "_uuid": "93cdd318-0a70-478c-9f07-5cddcdc61dc5",
    "papermill": {
     "duration": 0.027881,
     "end_time": "2021-08-30T15:05:18.7235",
     "exception": false,
     "start_time": "2021-08-30T15:05:18.695619",
     "status": "completed"
    },
    "tags": []
   },
   "source": [
    "**Symptom severity rank**"
   ]
  },
  {
   "cell_type": "code",
   "execution_count": 9,
   "metadata": {
    "_cell_guid": "1d432f5c-f8fa-4925-9fca-7be39c07c4d9",
    "_uuid": "d76fdc32-363a-4347-af14-924479214b10",
    "collapsed": false,
    "jupyter": {
     "outputs_hidden": false
    },
    "papermill": {
     "duration": 0.04616,
     "end_time": "2021-08-30T15:05:18.797645",
     "exception": false,
     "start_time": "2021-08-30T15:05:18.751485",
     "status": "completed"
    },
    "tags": []
   },
   "outputs": [],
   "source": [
    "df1 = pd.read_csv('Symptom-severity.csv')\n",
    "df1['Symptom'] = df1['Symptom'].str.replace('_',' ')"
   ]
  },
  {
   "cell_type": "markdown",
   "metadata": {
    "_cell_guid": "6714dd53-5370-437e-b310-c1fab54f6ebc",
    "_uuid": "6904ea6e-ce4c-4f0b-9191-51102483967f",
    "papermill": {
     "duration": 0.028392,
     "end_time": "2021-08-30T15:05:18.854505",
     "exception": false,
     "start_time": "2021-08-30T15:05:18.826113",
     "status": "completed"
    },
    "tags": []
   },
   "source": [
    "**Get overall list of symptoms**"
   ]
  },
  {
   "cell_type": "code",
   "execution_count": 10,
   "metadata": {
    "_cell_guid": "b03c9c89-9ab5-4d6d-bae1-91f7a0646a71",
    "_uuid": "e1485d20-86c0-4b22-8ae1-63af1b9cd6d3",
    "collapsed": false,
    "jupyter": {
     "outputs_hidden": false
    },
    "papermill": {
     "duration": 0.039041,
     "end_time": "2021-08-30T15:05:18.92221",
     "exception": false,
     "start_time": "2021-08-30T15:05:18.883169",
     "status": "completed"
    },
    "tags": []
   },
   "outputs": [],
   "source": [
    "#df1['Symptom'].unique()"
   ]
  },
  {
   "cell_type": "markdown",
   "metadata": {
    "_cell_guid": "61d79aed-3a85-4946-bddf-292d75d717f0",
    "_uuid": "7008e41b-15ea-4a00-bb83-d034d1ffe609",
    "papermill": {
     "duration": 0.029149,
     "end_time": "2021-08-30T15:05:18.980116",
     "exception": false,
     "start_time": "2021-08-30T15:05:18.950967",
     "status": "completed"
    },
    "tags": []
   },
   "source": [
    "**Encode symptoms in the data with the symptom rank**"
   ]
  },
  {
   "cell_type": "code",
   "execution_count": 11,
   "metadata": {
    "_cell_guid": "8eff5e73-f5db-4e55-8e22-657f48e402e9",
    "_uuid": "611e9eaa-ffdb-44a3-8593-578fc62d05e6",
    "collapsed": false,
    "jupyter": {
     "outputs_hidden": false
    },
    "papermill": {
     "duration": 0.689792,
     "end_time": "2021-08-30T15:05:19.699129",
     "exception": false,
     "start_time": "2021-08-30T15:05:19.009337",
     "status": "completed"
    },
    "tags": []
   },
   "outputs": [],
   "source": [
    "vals = df.values\n",
    "symptoms = df1['Symptom'].unique()\n",
    "\n",
    "for i in range(len(symptoms)):\n",
    "    vals[vals == symptoms[i]] = df1[df1['Symptom'] == symptoms[i]]['weight'].values[0]\n",
    "    \n",
    "d = pd.DataFrame(vals, columns=cols)\n"
   ]
  },
  {
   "cell_type": "markdown",
   "metadata": {
    "_cell_guid": "6974f7cb-a2b5-42af-a97f-d2e66b247433",
    "_uuid": "ebc80d1f-3893-427e-9dce-239e9eb417d7",
    "papermill": {
     "duration": 0.029325,
     "end_time": "2021-08-30T15:05:19.757938",
     "exception": false,
     "start_time": "2021-08-30T15:05:19.728613",
     "status": "completed"
    },
    "tags": []
   },
   "source": [
    "**Assign symptoms with no rank to zero**"
   ]
  },
  {
   "cell_type": "code",
   "execution_count": 12,
   "metadata": {
    "_cell_guid": "e2302539-6fa6-4c17-9a62-08c78fff8c3b",
    "_uuid": "9cc19600-63d5-4dd5-885c-35d8a33111fa",
    "collapsed": false,
    "jupyter": {
     "outputs_hidden": false
    },
    "papermill": {
     "duration": 0.100573,
     "end_time": "2021-08-30T15:05:19.888131",
     "exception": false,
     "start_time": "2021-08-30T15:05:19.787558",
     "status": "completed"
    },
    "tags": []
   },
   "outputs": [],
   "source": [
    "d = d.replace('dischromic  patches', 0)\n",
    "d = d.replace('spotting  urination',0)\n",
    "df = d.replace('foul smell of urine',0)"
   ]
  },
  {
   "cell_type": "code",
   "execution_count": 13,
   "metadata": {
    "_cell_guid": "2fc05134-a8fd-42e6-be79-92d2c83328c4",
    "_uuid": "f0559287-b607-4bd0-a07c-93e8a144a982",
    "collapsed": false,
    "jupyter": {
     "outputs_hidden": false
    }
   },
   "outputs": [
    {
     "name": "stdout",
     "output_type": "stream",
     "text": [
      "Number of symptoms used to identify the disease  132\n",
      "Number of diseases that can be identified  41\n"
     ]
    }
   ],
   "source": [
    "print(\"Number of symptoms used to identify the disease \",len(df1['Symptom'].unique()))\n",
    "print(\"Number of diseases that can be identified \",len(df['Disease'].unique()))"
   ]
  },
  {
   "cell_type": "code",
   "execution_count": 14,
   "metadata": {},
   "outputs": [],
   "source": [
    "data = df.iloc[:,1:].values\n",
    "labels = df['Disease'].values"
   ]
  },
  {
   "cell_type": "markdown",
   "metadata": {},
   "source": [
    "<h2>Training and Testing Split</h2>"
   ]
  },
  {
   "cell_type": "code",
   "execution_count": 15,
   "metadata": {
    "_cell_guid": "eba54136-513f-4b10-8009-017d6314cd1b",
    "_uuid": "12a704c1-408f-49c4-9bf8-688c51f0fde4",
    "collapsed": false,
    "jupyter": {
     "outputs_hidden": false
    }
   },
   "outputs": [
    {
     "name": "stdout",
     "output_type": "stream",
     "text": [
      "(3936, 17) (984, 17) (3936,) (984,)\n"
     ]
    }
   ],
   "source": [
    "x_train, x_test, y_train, y_test = train_test_split(data, labels, train_size = 0.8,random_state=42)\n",
    "print(x_train.shape, x_test.shape, y_train.shape, y_test.shape)"
   ]
  },
  {
   "cell_type": "markdown",
   "metadata": {
    "_cell_guid": "c5efdc06-c346-4ee6-944b-3a6d7e5c3032",
    "_uuid": "92928d82-f8a6-4499-bde3-e2488aebcc57"
   },
   "source": [
    "# Decision Tree"
   ]
  },
  {
   "cell_type": "code",
   "execution_count": 16,
   "metadata": {
    "_cell_guid": "c8a9e420-8f98-4308-b367-57b113fb449c",
    "_uuid": "8bdeebe4-9432-47ee-802a-1c58244619d1",
    "collapsed": false,
    "jupyter": {
     "outputs_hidden": false
    }
   },
   "outputs": [
    {
     "name": "stdout",
     "output_type": "stream",
     "text": [
      "F1-score% = 95.7812664665753 | Accuracy% = 95.83333333333334\n"
     ]
    }
   ],
   "source": [
    "tree =DecisionTreeClassifier(criterion='gini',random_state=42,max_depth=13)\n",
    "tree.fit(x_train, y_train)\n",
    "preds=tree.predict(x_test)\n",
    "print('F1-score% =', f1_score(y_test, preds, average='macro')*100, '|', 'Accuracy% =', accuracy_score(y_test, preds)*100)\n",
    "\n"
   ]
  },
  {
   "cell_type": "code",
   "execution_count": 17,
   "metadata": {
    "_cell_guid": "7f51eb7f-7e3a-41c5-8d8c-554e2d0d1343",
    "_uuid": "94286911-3306-458a-8f0e-a77e59ed78ea",
    "collapsed": false,
    "jupyter": {
     "outputs_hidden": false
    }
   },
   "outputs": [
    {
     "name": "stdout",
     "output_type": "stream",
     "text": [
      "Mean Accuracy: 95.706%, Standard Deviation: (1.99%)\n"
     ]
    }
   ],
   "source": [
    "kfold = KFold(n_splits=10,shuffle=True,random_state=42)\n",
    "DS_train =cross_val_score(tree, x_train, y_train, cv=kfold, scoring='accuracy')\n",
    "pd.DataFrame(DS_train,columns=['Scores'])\n",
    "print(\"Mean Accuracy: %.3f%%, Standard Deviation: (%.2f%%)\" % (DS_train.mean()*100.0, DS_train.std()*100.0))"
   ]
  },
  {
   "cell_type": "code",
   "execution_count": 18,
   "metadata": {
    "_cell_guid": "802a24a9-7595-4dc5-891a-046cb17de946",
    "_uuid": "a15f00f5-92ab-4209-b27b-ab93dda10f70",
    "collapsed": false,
    "jupyter": {
     "outputs_hidden": false
    }
   },
   "outputs": [
    {
     "name": "stdout",
     "output_type": "stream",
     "text": [
      "Mean Accuracy: 94.198%, Standard Deviation: (3.57%)\n"
     ]
    }
   ],
   "source": [
    "kfold = KFold(n_splits=10,shuffle=True,random_state=42)\n",
    "DS_test =cross_val_score(tree, x_test, y_test, cv=kfold, scoring='accuracy')\n",
    "pd.DataFrame(DS_test,columns=['Scores'])\n",
    "print(\"Mean Accuracy: %.3f%%, Standard Deviation: (%.2f%%)\" % (DS_test.mean()*100.0, DS_test.std()*100.0))"
   ]
  },
  {
   "cell_type": "markdown",
   "metadata": {
    "_cell_guid": "af666bda-8bd8-48c2-895b-1494e3fc10ab",
    "_uuid": "5e8264a7-caca-46f5-9dc8-910373c6757c"
   },
   "source": [
    "# Random Forest"
   ]
  },
  {
   "cell_type": "code",
   "execution_count": 19,
   "metadata": {
    "_cell_guid": "a870e5f4-9438-4b74-b89a-7d308a8b4d5d",
    "_uuid": "7d7019c6-586d-4903-ac8b-bd66ebb32ae3",
    "collapsed": false,
    "jupyter": {
     "outputs_hidden": false
    }
   },
   "outputs": [],
   "source": [
    "rfc=RandomForestClassifier(random_state=42)"
   ]
  },
  {
   "cell_type": "code",
   "execution_count": 20,
   "metadata": {
    "_cell_guid": "1855177b-822b-46b7-bc97-e962af727a04",
    "_uuid": "a563b409-5026-4353-97a9-30f95eff42eb",
    "collapsed": false,
    "jupyter": {
     "outputs_hidden": false
    }
   },
   "outputs": [
    {
     "name": "stdout",
     "output_type": "stream",
     "text": [
      "[3 5 3 5 4 4 3 2 3 0 0 0 0 0 0 0 0]\n",
      "Migraine\n",
      "F1-score% = 99.58380389536958 | Accuracy% = 99.59349593495935\n"
     ]
    }
   ],
   "source": [
    "rfc = RandomForestClassifier(random_state=42, max_features='sqrt', n_estimators= 500, max_depth=13)\n",
    "rfc.fit(x_train,y_train)\n",
    "preds= rfc.predict(x_test)\n",
    "print(x_test[0])\n",
    "print(preds[0])\n",
    "conf_mat = confusion_matrix(y_test, preds)\n",
    "df_cm = pd.DataFrame(conf_mat, index=df['Disease'].unique(), columns=df['Disease'].unique())\n",
    "print('F1-score% =', f1_score(y_test, preds, average='macro')*100, '|', 'Accuracy% =', accuracy_score(y_test, preds)*100)\n"
   ]
  },
  {
   "cell_type": "code",
   "execution_count": 21,
   "metadata": {
    "_cell_guid": "8e5a217d-4e05-41d8-b381-a1f8f583cd8a",
    "_uuid": "cb0b2ccc-9359-410a-92b8-5636c44bf917",
    "collapsed": false,
    "jupyter": {
     "outputs_hidden": false
    }
   },
   "outputs": [
    {
     "name": "stdout",
     "output_type": "stream",
     "text": [
      "Mean Accuracy: 99.187%, Standard Deviation: (0.44%)\n"
     ]
    }
   ],
   "source": [
    "kfold = KFold(n_splits=10,shuffle=True,random_state=42)\n",
    "rnd_forest_train =cross_val_score(rfc, x_train, y_train, cv=kfold, scoring='accuracy')\n",
    "pd.DataFrame(rnd_forest_train,columns=['Scores'])\n",
    "print(\"Mean Accuracy: %.3f%%, Standard Deviation: (%.2f%%)\" % (rnd_forest_train.mean()*100.0, rnd_forest_train.std()*100.0))"
   ]
  },
  {
   "cell_type": "code",
   "execution_count": 22,
   "metadata": {
    "_cell_guid": "e5600f7a-2c8d-4c49-8985-09cd92221103",
    "_uuid": "d4e1bcaa-15d3-4e39-8cb4-7a1cf7ec1d3b",
    "collapsed": false,
    "jupyter": {
     "outputs_hidden": false
    }
   },
   "outputs": [
    {
     "name": "stdout",
     "output_type": "stream",
     "text": [
      "Mean Accuracy: 98.575%, Standard Deviation: (1.31%)\n"
     ]
    }
   ],
   "source": [
    "kfold = KFold(n_splits=10,shuffle=True,random_state=42)\n",
    "rnd_forest_test =cross_val_score(rfc, x_test, y_test, cv=kfold, scoring='accuracy')\n",
    "pd.DataFrame(rnd_forest_test,columns=['Scores'])\n",
    "print(\"Mean Accuracy: %.3f%%, Standard Deviation: (%.2f%%)\" % (rnd_forest_test.mean()*100.0, rnd_forest_test.std()*100.0))"
   ]
  },
  {
   "cell_type": "code",
   "execution_count": 23,
   "metadata": {
    "_cell_guid": "61419045-cc8e-40c8-8c88-5d8b996350cf",
    "_uuid": "54c4be9e-befc-42eb-94d6-2fb759cee77c",
    "collapsed": false,
    "jupyter": {
     "outputs_hidden": false
    }
   },
   "outputs": [],
   "source": [
    "discrp = pd.read_csv(\"symptom_Description.csv\")"
   ]
  },
  {
   "cell_type": "code",
   "execution_count": 24,
   "metadata": {
    "_cell_guid": "f24fad20-368d-4f93-9dc4-a4f84012a926",
    "_uuid": "e6e8db22-b8a4-4c00-bcb3-1cc6c1684c4b",
    "collapsed": false,
    "jupyter": {
     "outputs_hidden": false
    }
   },
   "outputs": [],
   "source": [
    "ektra7at = pd.read_csv(\"symptom_precaution.csv\")"
   ]
  },
  {
   "cell_type": "code",
   "execution_count": 25,
   "metadata": {
    "_cell_guid": "86411b8b-e2db-4aa1-aec0-54b5c01a7164",
    "_uuid": "ecd6419c-ca99-4a9b-8b41-aba85f917eba",
    "collapsed": false,
    "jupyter": {
     "outputs_hidden": false
    }
   },
   "outputs": [],
   "source": [
    "def predd(x, s1=0.0, s2=0.0, s3=0.0, s4=0.0, s5=0.0, s6=0.0, s7=0.0, s8=0.0, s9=0.0, s10=0.0,\n",
    "          s11=0.0, s12=0.0, s13=0.0, s14=0.0, s15=0.0, s16=0.0, s17=0.0):\n",
    "    psymptoms = [s1, s2, s3, s4, s5, s6, s7, s8, s9, s10, s11, s12, s13, s14, s15, s16, s17]\n",
    "\n",
    "    # Update psymptoms with weights from the dataframe\n",
    "    a = np.array(df1[\"Symptom\"])\n",
    "    b = np.array(df1[\"weight\"])\n",
    "    for j in range(len(psymptoms)):\n",
    "        for k in range(len(a)):\n",
    "            if psymptoms[j] == a[k]:\n",
    "                psymptoms[j] = b[k]\n",
    "\n",
    "    # Predict disease using the provided RandomForestClassifier instance\n",
    "    psy = [psymptoms]\n",
    "    pred2 = x.predict(psy)\n",
    "\n",
    "    # Get top 3 probabilities\n",
    "    probas = x.predict_proba(psy)[0]\n",
    "    top_indices = probas.argsort()[::-1][:3]\n",
    "    top_diseases = x.classes_[top_indices]\n",
    "    top_probas = probas[top_indices]\n",
    "\n",
    "    # Print top 3 predicted diseases with descriptions and precaution lists\n",
    "    for disease, proba in zip(top_diseases, top_probas):\n",
    "        disp = discrp[discrp['Disease'] == disease].values[0][1]\n",
    "        recomnd = ektra7at[ektra7at['Disease'] == disease]\n",
    "        c = np.where(ektra7at['Disease'] == disease)[0][0]\n",
    "        precuation_list = list(ektra7at.iloc[c, 1:])\n",
    "\n",
    "        print(\"Potential Disease Name:\", disease)\n",
    "        print(\"Probability: {:.2f}%\".format(proba * 100))\n",
    "        print(\"Description:\", disp)\n",
    "        print(\"Recommended Things to do at home:\")\n",
    "        for i in precuation_list:\n",
    "            print(\"-\", i)\n",
    "        print()  # Add an empty line for better readability\n"
   ]
  },
  {
   "cell_type": "code",
   "execution_count": 26,
   "metadata": {},
   "outputs": [],
   "source": [
    "symptoms = ['itching', 'skin_rash', 'nodal_skin_eruptions',\n",
    "       'continuous_sneezing', 'shivering', 'chills', 'joint_pain',\n",
    "       'stomach_pain', 'acidity', 'ulcers_on_tongue', 'muscle_wasting',\n",
    "       'vomiting', 'burning_micturition', 'spotting_urination', 'fatigue',\n",
    "       'weight_gain', 'anxiety', 'cold_hands_and_feets', 'mood_swings',\n",
    "       'weight_loss', 'restlessness', 'lethargy', 'patches_in_throat',\n",
    "       'irregular_sugar_level', 'cough', 'high_fever', 'sunken_eyes',\n",
    "       'breathlessness', 'sweating', 'dehydration', 'indigestion',\n",
    "       'headache', 'yellowish_skin', 'dark_urine', 'nausea',\n",
    "       'loss_of_appetite', 'pain_behind_the_eyes', 'back_pain',\n",
    "       'constipation', 'abdominal_pain', 'diarrhoea', 'mild_fever',\n",
    "       'yellow_urine', 'yellowing_of_eyes', 'acute_liver_failure',\n",
    "       'fluid_overload', 'swelling_of_stomach', 'swelled_lymph_nodes',\n",
    "       'malaise', 'blurred_and_distorted_vision', 'phlegm',\n",
    "       'throat_irritation', 'redness_of_eyes', 'sinus_pressure',\n",
    "       'runny_nose', 'congestion', 'chest_pain', 'weakness_in_limbs',\n",
    "       'fast_heart_rate', 'pain_during_bowel_movements',\n",
    "       'pain_in_anal_region', 'bloody_stool', 'irritation_in_anus',\n",
    "       'neck_pain', 'dizziness', 'cramps', 'bruising', 'obesity',\n",
    "       'swollen_legs', 'swollen_blood_vessels', 'puffy_face_and_eyes',\n",
    "       'enlarged_thyroid', 'brittle_nails', 'swollen_extremeties',\n",
    "       'excessive_hunger', 'extra_marital_contacts',\n",
    "       'drying_and_tingling_lips', 'slurred_speech', 'knee_pain',\n",
    "       'hip_joint_pain', 'muscle_weakness', 'stiff_neck',\n",
    "       'swelling_joints', 'movement_stiffness', 'spinning_movements',\n",
    "       'loss_of_balance', 'unsteadiness', 'weakness_of_one_body_side',\n",
    "       'loss_of_smell', 'bladder_discomfort', 'foul_smell_ofurine',\n",
    "       'continuous_feel_of_urine', 'passage_of_gases', 'internal_itching',\n",
    "       'toxic_look_(typhos)', 'depression', 'irritability', 'muscle_pain',\n",
    "       'altered_sensorium', 'red_spots_over_body', 'belly_pain',\n",
    "       'abnormal_menstruation', 'dischromic_patches',\n",
    "       'watering_from_eyes', 'increased_appetite', 'polyuria',\n",
    "       'family_history', 'mucoid_sputum', 'rusty_sputum',\n",
    "       'lack_of_concentration', 'visual_disturbances',\n",
    "       'receiving_blood_transfusion', 'receiving_unsterile_injections',\n",
    "       'coma', 'stomach_bleeding', 'distention_of_abdomen',\n",
    "       'history_of_alcohol_consumption', 'blood_in_sputum',\n",
    "       'prominent_veins_on_calf', 'palpitations', 'painful_walking',\n",
    "       'pus_filled_pimples', 'blackheads', 'scurring', 'skin_peeling',\n",
    "       'silver_like_dusting', 'small_dents_in_nails',\n",
    "       'inflammatory_nails', 'blister', 'red_sore_around_nose',\n",
    "       'yellow_crust_ooze', 'prognosis']"
   ]
  },
  {
   "cell_type": "code",
   "execution_count": 27,
   "metadata": {},
   "outputs": [],
   "source": [
    "def preprocess_input(input_text):\n",
    "    tokens = input_text.lower().split()\n",
    "    return tokens\n",
    "\n",
    "def identify_symptoms(tokens):\n",
    "    # Initialize a list to store identified symptoms\n",
    "    identified_symptoms = []\n",
    "    # Check each token against the list of symptoms\n",
    "    for token in tokens:\n",
    "        # Use a regular expression to check for partial matches\n",
    "        if any(re.search(r'\\b{}\\b'.format(symptom), token) for symptom in symptoms):\n",
    "            identified_symptoms.append(token)\n",
    "    return identified_symptoms\n",
    "\n",
    "def predict_disease(identified_symptoms):\n",
    "    print(\"Identified Symptoms: \", identified_symptoms)\n",
    "    print()\n",
    "    prediction = predd(rfc, *identified_symptoms)\n",
    "    return prediction\n"
   ]
  },
  {
   "cell_type": "code",
   "execution_count": 28,
   "metadata": {},
   "outputs": [],
   "source": [
    "def chatbot():\n",
    "    print(\"Welcome to the Disease Predictor Chatbot!\")\n",
    "    print(\"You can describe your symptoms, and I'll try to predict the possible disease.\")\n",
    "    print(\"Type 'exit' to end the conversation.\")\n",
    "\n",
    "    while True:\n",
    "        user_input = input(\"You: \").strip()\n",
    "        if user_input.lower() == 'exit':\n",
    "            print(\"Chatbot: Goodbye!\")\n",
    "            break\n",
    "        else:\n",
    "            tokens = preprocess_input(user_input)\n",
    "            identified_symptoms = identify_symptoms(tokens)\n",
    "            if identified_symptoms:\n",
    "                predicted_disease = predict_disease(identified_symptoms)\n",
    "                print(\"Chatbot: It appears that your symptoms match the disease listed above. However, please keep in mind that I am still in development. For accurate diagnosis and treatment, please consult a healthcare professional.\")\n",
    "            else:\n",
    "                print(\"Chatbot: No symptoms identified. I am still a bot that is being trained and tested, so I might not recognize all diseases and symptoms accurately, please consult your nearest doctor about your symptoms. If you'd like to exit, please type 'exit'.\")\n",
    "\n"
   ]
  },
  {
   "cell_type": "code",
   "execution_count": null,
   "metadata": {},
   "outputs": [
    {
     "name": "stdout",
     "output_type": "stream",
     "text": [
      "Welcome to the Disease Predictor Chatbot!\n",
      "You can describe your symptoms, and I'll try to predict the possible disease.\n",
      "Type 'exit' to end the conversation.\n"
     ]
    }
   ],
   "source": [
    "chatbot()"
   ]
  },
  {
   "cell_type": "code",
   "execution_count": null,
   "metadata": {},
   "outputs": [],
   "source": []
  }
 ],
 "metadata": {
  "kaggle": {
   "accelerator": "none",
   "dataSources": [
    {
     "datasetId": 672162,
     "sourceId": 1182853,
     "sourceType": "datasetVersion"
    }
   ],
   "dockerImageVersionId": 30301,
   "isGpuEnabled": false,
   "isInternetEnabled": true,
   "language": "python",
   "sourceType": "notebook"
  },
  "kernelspec": {
   "display_name": "tensorflow-2.13.0",
   "language": "python",
   "name": "tensorflow-2.13.0"
  },
  "language_info": {
   "codemirror_mode": {
    "name": "ipython",
    "version": 3
   },
   "file_extension": ".py",
   "mimetype": "text/x-python",
   "name": "python",
   "nbconvert_exporter": "python",
   "pygments_lexer": "ipython3",
   "version": "3.9.16"
  }
 },
 "nbformat": 4,
 "nbformat_minor": 4
}
